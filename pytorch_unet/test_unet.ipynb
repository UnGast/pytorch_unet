{
 "cells": [
  {
   "cell_type": "code",
   "execution_count": 1,
   "metadata": {},
   "outputs": [],
   "source": [
    "%load_ext autoreload"
   ]
  },
  {
   "cell_type": "code",
   "execution_count": 2,
   "metadata": {},
   "outputs": [],
   "source": [
    "%matplotlib inline\n",
    "import matplotlib.pyplot as plt\n",
    "import torch\n",
    "import torchvision.datasets as datasets\n",
    "import torchvision\n",
    "from torch.utils.data import DataLoader\n",
    "from pathlib import Path\n",
    "import sys\n",
    "sys.path.append(str(Path('../../').resolve()))"
   ]
  },
  {
   "cell_type": "code",
   "execution_count": 3,
   "metadata": {},
   "outputs": [
    {
     "data": {
      "text/plain": [
       "torch.optim.lr_scheduler._LRScheduler"
      ]
     },
     "execution_count": 3,
     "metadata": {},
     "output_type": "execute_result"
    }
   ],
   "source": [
    "import torch.optim as optim\n",
    "optim.lr_scheduler._LRScheduler"
   ]
  },
  {
   "cell_type": "code",
   "execution_count": 4,
   "metadata": {},
   "outputs": [
    {
     "name": "stdout",
     "output_type": "stream",
     "text": [
      "automatically set env variable CUDA_DEVICE_ORDER to PCI_BUS_ID to set device ordering in pytorch to same ordering as nvidia-smi\n"
     ]
    }
   ],
   "source": [
    "%autoreload\n",
    "import v4.pytorch_unet.unet as unet\n",
    "from v4.pytorch_unet.learner import LearnerCallback, UNetLearner, UNetLearnerCheckpoint, CycleLRPolicy\n",
    "from v4.pytorch_unet.unet_dataset import UNetDataset"
   ]
  },
  {
   "cell_type": "code",
   "execution_count": 5,
   "metadata": {},
   "outputs": [],
   "source": [
    "train_dataset = UNetDataset(root_dir=Path('simple_dataset'), part='train')\n",
    "valid_dataset = UNetDataset(root_dir=Path('simple_dataset'), part='valid')\n",
    "train_loader = DataLoader(train_dataset)\n",
    "valid_loader = DataLoader(valid_dataset)"
   ]
  },
  {
   "cell_type": "code",
   "execution_count": 6,
   "metadata": {},
   "outputs": [],
   "source": [
    "model = unet.ResNetUNet(in_channels=train_dataset.image_channels, in_size=train_dataset.item_size,\\\n",
    "                        n_classes=len(train_dataset.classes), depth=4, cuda_devices=[0, 1],\\\n",
    "                       manual_cuda_split=[0, 5])"
   ]
  },
  {
   "cell_type": "code",
   "execution_count": 9,
   "metadata": {},
   "outputs": [],
   "source": [
    "def handle_epoch_end(metrics, epoch):\n",
    "    checkpoint = learner.make_checkpoint()\n",
    "    print('made checkpoint', checkpoint)\n",
    "    checkpoint.save(Path('test_checkpoints/e_{}'.format(epoch)))\n",
    "    \n",
    "callback = LearnerCallback(epoch_end=handle_epoch_end)\n",
    "\n",
    "lr_policy = CycleLRPolicy(max_lr=3e-3, step_count=100, fadeout_fraction=0.9)\n",
    "\n",
    "learner = UNetLearner(model_id='test_unet_3', model=model, lr_policy=lr_policy, train_loader=train_loader,\\\n",
    "                      valid_loader=valid_loader, callback=callback)"
   ]
  },
  {
   "cell_type": "code",
   "execution_count": 8,
   "metadata": {},
   "outputs": [
    {
     "ename": "FileNotFoundError",
     "evalue": "[Errno 2] No such file or directory: 'test_checkpoints/e_9/model.txt'",
     "output_type": "error",
     "traceback": [
      "\u001b[0;31m---------------------------------------------------------------------------\u001b[0m",
      "\u001b[0;31mFileNotFoundError\u001b[0m                         Traceback (most recent call last)",
      "\u001b[0;32m<ipython-input-8-f6bde1cc8fe3>\u001b[0m in \u001b[0;36m<module>\u001b[0;34m\u001b[0m\n\u001b[0;32m----> 1\u001b[0;31m \u001b[0mlearner\u001b[0m\u001b[0;34m.\u001b[0m\u001b[0mload_checkpoint\u001b[0m\u001b[0;34m(\u001b[0m\u001b[0mUNetLearnerCheckpoint\u001b[0m\u001b[0;34m.\u001b[0m\u001b[0mload\u001b[0m\u001b[0;34m(\u001b[0m\u001b[0mPath\u001b[0m\u001b[0;34m(\u001b[0m\u001b[0;34m'test_checkpoints/e_9'\u001b[0m\u001b[0;34m)\u001b[0m\u001b[0;34m)\u001b[0m\u001b[0;34m)\u001b[0m\u001b[0;34m\u001b[0m\u001b[0;34m\u001b[0m\u001b[0m\n\u001b[0m",
      "\u001b[0;32m/home/h9/adzi885b/clinching-measuring/v4/pytorch_unet/learner.py\u001b[0m in \u001b[0;36mload\u001b[0;34m(cls, path)\u001b[0m\n\u001b[1;32m    166\u001b[0m     \u001b[0;34m@\u001b[0m\u001b[0mclassmethod\u001b[0m\u001b[0;34m\u001b[0m\u001b[0;34m\u001b[0m\u001b[0m\n\u001b[1;32m    167\u001b[0m     \u001b[0;32mdef\u001b[0m \u001b[0mload\u001b[0m\u001b[0;34m(\u001b[0m\u001b[0mcls\u001b[0m\u001b[0;34m,\u001b[0m \u001b[0mpath\u001b[0m\u001b[0;34m:\u001b[0m \u001b[0mPath\u001b[0m\u001b[0;34m)\u001b[0m \u001b[0;34m->\u001b[0m \u001b[0;34m'UNetLearnerCheckpoint'\u001b[0m\u001b[0;34m:\u001b[0m\u001b[0;34m\u001b[0m\u001b[0;34m\u001b[0m\u001b[0m\n\u001b[0;32m--> 168\u001b[0;31m         \u001b[0;32mreturn\u001b[0m \u001b[0mcls\u001b[0m\u001b[0;34m(\u001b[0m\u001b[0mtrain_results_figure\u001b[0m\u001b[0;34m=\u001b[0m\u001b[0;32mNone\u001b[0m\u001b[0;34m,\u001b[0m \u001b[0mvalid_results_figure\u001b[0m\u001b[0;34m=\u001b[0m\u001b[0;32mNone\u001b[0m\u001b[0;34m,\u001b[0m \u001b[0;34m**\u001b[0m\u001b[0mLearnerCheckpoint\u001b[0m\u001b[0;34m.\u001b[0m\u001b[0mload\u001b[0m\u001b[0;34m(\u001b[0m\u001b[0mpath\u001b[0m\u001b[0;34m=\u001b[0m\u001b[0mpath\u001b[0m\u001b[0;34m)\u001b[0m\u001b[0;34m.\u001b[0m\u001b[0m__dict__\u001b[0m\u001b[0;34m)\u001b[0m\u001b[0;34m\u001b[0m\u001b[0;34m\u001b[0m\u001b[0m\n\u001b[0m\u001b[1;32m    169\u001b[0m \u001b[0;34m\u001b[0m\u001b[0m\n\u001b[1;32m    170\u001b[0m \u001b[0;32mclass\u001b[0m \u001b[0mLearner\u001b[0m\u001b[0;34m(\u001b[0m\u001b[0;34m)\u001b[0m\u001b[0;34m:\u001b[0m\u001b[0;34m\u001b[0m\u001b[0;34m\u001b[0m\u001b[0m\n",
      "\u001b[0;32m/home/h9/adzi885b/clinching-measuring/v4/pytorch_unet/learner.py\u001b[0m in \u001b[0;36mload\u001b[0;34m(cls, path)\u001b[0m\n\u001b[1;32m    135\u001b[0m         \u001b[0mresult\u001b[0m \u001b[0;34m=\u001b[0m \u001b[0mcls\u001b[0m\u001b[0;34m(\u001b[0m\u001b[0;32mNone\u001b[0m\u001b[0;34m,\u001b[0m \u001b[0;32mNone\u001b[0m\u001b[0;34m,\u001b[0m \u001b[0;32mNone\u001b[0m\u001b[0;34m,\u001b[0m \u001b[0;32mNone\u001b[0m\u001b[0;34m,\u001b[0m \u001b[0;32mNone\u001b[0m\u001b[0;34m)\u001b[0m\u001b[0;34m\u001b[0m\u001b[0;34m\u001b[0m\u001b[0m\n\u001b[1;32m    136\u001b[0m \u001b[0;34m\u001b[0m\u001b[0m\n\u001b[0;32m--> 137\u001b[0;31m         \u001b[0;32mwith\u001b[0m \u001b[0mopen\u001b[0m\u001b[0;34m(\u001b[0m\u001b[0mpath\u001b[0m\u001b[0;34m/\u001b[0m\u001b[0;34m'model.txt'\u001b[0m\u001b[0;34m,\u001b[0m \u001b[0;34m'r'\u001b[0m\u001b[0;34m)\u001b[0m \u001b[0;32mas\u001b[0m \u001b[0mfile\u001b[0m\u001b[0;34m:\u001b[0m\u001b[0;34m\u001b[0m\u001b[0;34m\u001b[0m\u001b[0m\n\u001b[0m\u001b[1;32m    138\u001b[0m             \u001b[0mresult\u001b[0m\u001b[0;34m.\u001b[0m\u001b[0mmodel_id\u001b[0m \u001b[0;34m=\u001b[0m \u001b[0mfile\u001b[0m\u001b[0;34m.\u001b[0m\u001b[0mread\u001b[0m\u001b[0;34m(\u001b[0m\u001b[0;34m)\u001b[0m\u001b[0;34m\u001b[0m\u001b[0;34m\u001b[0m\u001b[0m\n\u001b[1;32m    139\u001b[0m \u001b[0;34m\u001b[0m\u001b[0m\n",
      "\u001b[0;31mFileNotFoundError\u001b[0m: [Errno 2] No such file or directory: 'test_checkpoints/e_9/model.txt'"
     ]
    }
   ],
   "source": [
    "learner.load_checkpoint(UNetLearnerCheckpoint.load(Path('test_checkpoints/e_9')))"
   ]
  },
  {
   "cell_type": "code",
   "execution_count": 14,
   "metadata": {},
   "outputs": [
    {
     "data": {
      "text/plain": [
       "9"
      ]
     },
     "execution_count": 14,
     "metadata": {},
     "output_type": "execute_result"
    }
   ],
   "source": [
    "learner.current_epoch"
   ]
  },
  {
   "cell_type": "code",
   "execution_count": 15,
   "metadata": {},
   "outputs": [
    {
     "data": {
      "text/plain": [
       "torch.Size([300, 300])"
      ]
     },
     "execution_count": 15,
     "metadata": {},
     "output_type": "execute_result"
    }
   ],
   "source": [
    "train_dataset[0][1].shape"
   ]
  },
  {
   "cell_type": "code",
   "execution_count": 9,
   "metadata": {},
   "outputs": [
    {
     "data": {
      "text/plain": [
       "<bound method UNetLearner.make_checkpoint of <v4.pytorch_unet.learner.UNetLearner object at 0x2000ffe87b70>>"
      ]
     },
     "execution_count": 9,
     "metadata": {},
     "output_type": "execute_result"
    }
   ],
   "source": [
    "learner.make_checkpoint"
   ]
  },
  {
   "cell_type": "code",
   "execution_count": 10,
   "metadata": {},
   "outputs": [
    {
     "name": "stdout",
     "output_type": "stream",
     "text": [
      "Epoch 0\n",
      "train_loss nan\n",
      "valid_loss nan\n",
      "train_accuracy 0.3258059259259259\n",
      "valid_accuracy 0.3707055555555555\n",
      "------------------\n"
     ]
    },
    {
     "ename": "NameError",
     "evalue": "name 'lr_scheduler' is not defined",
     "output_type": "error",
     "traceback": [
      "\u001b[0;31m---------------------------------------------------------------------------\u001b[0m",
      "\u001b[0;31mNameError\u001b[0m                                 Traceback (most recent call last)",
      "\u001b[0;32m<ipython-input-10-9d606bd1b498>\u001b[0m in \u001b[0;36m<module>\u001b[0;34m\u001b[0m\n\u001b[0;32m----> 1\u001b[0;31m \u001b[0mlearner\u001b[0m\u001b[0;34m.\u001b[0m\u001b[0mtrain\u001b[0m\u001b[0;34m(\u001b[0m\u001b[0mn_epochs\u001b[0m\u001b[0;34m=\u001b[0m\u001b[0;36m10\u001b[0m\u001b[0;34m,\u001b[0m \u001b[0mlr\u001b[0m\u001b[0;34m=\u001b[0m\u001b[0;36m3e-4\u001b[0m\u001b[0;34m,\u001b[0m \u001b[0mmomentum\u001b[0m\u001b[0;34m=\u001b[0m\u001b[0;36m0.9\u001b[0m\u001b[0;34m)\u001b[0m\u001b[0;34m\u001b[0m\u001b[0;34m\u001b[0m\u001b[0m\n\u001b[0m",
      "\u001b[0;32m/home/h9/adzi885b/clinching-measuring/v4/pytorch_unet/learner.py\u001b[0m in \u001b[0;36mtrain\u001b[0;34m(self, n_epochs, lr, momentum)\u001b[0m\n\u001b[1;32m    305\u001b[0m                 \u001b[0mprint\u001b[0m\u001b[0;34m(\u001b[0m\u001b[0mkey\u001b[0m\u001b[0;34m,\u001b[0m \u001b[0mvalue\u001b[0m\u001b[0;34m)\u001b[0m\u001b[0;34m\u001b[0m\u001b[0;34m\u001b[0m\u001b[0m\n\u001b[1;32m    306\u001b[0m             \u001b[0mprint\u001b[0m\u001b[0;34m(\u001b[0m\u001b[0;34m'------------------'\u001b[0m\u001b[0;34m)\u001b[0m\u001b[0;34m\u001b[0m\u001b[0;34m\u001b[0m\u001b[0m\n\u001b[0;32m--> 307\u001b[0;31m             \u001b[0mprint\u001b[0m\u001b[0;34m(\u001b[0m\u001b[0;34m'learning rate: {}'\u001b[0m\u001b[0;34m.\u001b[0m\u001b[0mformat\u001b[0m\u001b[0;34m(\u001b[0m\u001b[0mlr_scheduler\u001b[0m\u001b[0;34m.\u001b[0m\u001b[0mget_last_lr\u001b[0m\u001b[0;34m(\u001b[0m\u001b[0;34m)\u001b[0m\u001b[0;34m)\u001b[0m\u001b[0;34m)\u001b[0m\u001b[0;34m\u001b[0m\u001b[0;34m\u001b[0m\u001b[0m\n\u001b[0m\u001b[1;32m    308\u001b[0m \u001b[0;34m\u001b[0m\u001b[0m\n\u001b[1;32m    309\u001b[0m     \u001b[0;32mdef\u001b[0m \u001b[0mplot_metrics\u001b[0m\u001b[0;34m(\u001b[0m\u001b[0mself\u001b[0m\u001b[0;34m,\u001b[0m \u001b[0;34m**\u001b[0m\u001b[0mkwargs\u001b[0m\u001b[0;34m)\u001b[0m \u001b[0;34m->\u001b[0m \u001b[0mplt\u001b[0m\u001b[0;34m.\u001b[0m\u001b[0mFigure\u001b[0m\u001b[0;34m:\u001b[0m\u001b[0;34m\u001b[0m\u001b[0;34m\u001b[0m\u001b[0m\n",
      "\u001b[0;31mNameError\u001b[0m: name 'lr_scheduler' is not defined"
     ]
    }
   ],
   "source": [
    "learner.train(n_epochs=10, lr=3e-4, momentum=0.9)"
   ]
  },
  {
   "cell_type": "code",
   "execution_count": 46,
   "metadata": {},
   "outputs": [],
   "source": [
    "checkpoint = UNetLearnerCheckpoint.load(Path('test_checkpoint'))\n",
    "learner.load_checkpoint(checkpoint=checkpoint)"
   ]
  },
  {
   "cell_type": "code",
   "execution_count": 9,
   "metadata": {},
   "outputs": [
    {
     "name": "stderr",
     "output_type": "stream",
     "text": [
      "/home/h9/adzi885b/clinching-measuring/v4/pytorch_unet/learner.py:284: RuntimeWarning: More than 20 figures have been opened. Figures created through the pyplot interface (`matplotlib.pyplot.figure`) are retained until explicitly closed and may consume too much memory. (To control this warning, see the rcParam `figure.max_open_warning`).\n",
      "  figure = plt.figure(**kwargs)\n"
     ]
    },
    {
     "data": {
      "image/png": "[encoded data removed]",
      "text/plain": [
       "<Figure size 432x288 with 1 Axes>"
      ]
     },
     "execution_count": 9,
     "metadata": {},
     "output_type": "execute_result"
    }
   ],
   "source": [
    "learner.plot_metrics()"
   ]
  },
  {
   "cell_type": "code",
   "execution_count": null,
   "metadata": {},
   "outputs": [],
   "source": [
    "{key: 1 for (key, value) in learner.epoch_metrics.items()}"
   ]
  },
  {
   "cell_type": "code",
   "execution_count": 11,
   "metadata": {},
   "outputs": [
    {
     "data": {
      "text/plain": [
       "{0: 'train_loss', 1: 'valid_loss', 2: 'accuracy'}"
      ]
     },
     "execution_count": 11,
     "metadata": {},
     "output_type": "execute_result"
    }
   ],
   "source": [
    "test = {'train_loss': 0, 'valid_loss': 0, 'accuracy': 0}\n",
    "{key: value for key, value in enumerate(test)}"
   ]
  },
  {
   "cell_type": "code",
   "execution_count": 14,
   "metadata": {},
   "outputs": [],
   "source": [
    "plt.ioff()\n",
    "figure = learner.show_train_results(2)\n",
    "figure.savefig(\"test.png\")\n",
    "plt.ion()"
   ]
  },
  {
   "cell_type": "code",
   "execution_count": 10,
   "metadata": {},
   "outputs": [
    {
     "data": {
      "text/plain": [
       "datetime.datetime(2020, 12, 7, 21, 32, 47, 654054)"
      ]
     },
     "execution_count": 10,
     "metadata": {},
     "output_type": "execute_result"
    }
   ],
   "source": [
    "torch.load(Path('test_checkpoint/train_history.save'))[0].timestamp"
   ]
  },
  {
   "cell_type": "code",
   "execution_count": 16,
   "metadata": {},
   "outputs": [
    {
     "data": {
      "text/plain": [
       "{'train_loss': [0.37691390613714854,\n",
       "  0.3734049181143443,\n",
       "  0.3668163905541102,\n",
       "  0.3606810828049978,\n",
       "  0.35533954401810963,\n",
       "  0.35076627333958943,\n",
       "  0.34711896379788715,\n",
       "  0.34460744162400564,\n",
       "  0.3433426340421041,\n",
       "  0.34302446444829304],\n",
       " 'valid_loss': [0.3760935217142105,\n",
       "  0.3699115216732025,\n",
       "  0.36301159858703613,\n",
       "  0.35734444856643677,\n",
       "  0.3523831218481064,\n",
       "  0.34825339913368225,\n",
       "  0.34516333043575287,\n",
       "  0.3433322161436081,\n",
       "  0.34274253249168396,\n",
       "  0.3427424877882004],\n",
       " 'train_accuracy': [0.12602962962962963,\n",
       "  0.12602962962962963,\n",
       "  0.1260177777777778,\n",
       "  0.12599314814814816,\n",
       "  0.12595518518518517,\n",
       "  0.1264259259259259,\n",
       "  0.16471870370370376,\n",
       "  0.4095599999999999,\n",
       "  0.3708540740740741,\n",
       "  0.37223148148148155],\n",
       " 'valid_accuracy': [0.12929444444444446,\n",
       "  0.12929444444444446,\n",
       "  0.12937222222222222,\n",
       "  0.12975,\n",
       "  0.1315888888888889,\n",
       "  0.13833333333333334,\n",
       "  0.21421666666666672,\n",
       "  0.35040555555555564,\n",
       "  0.35592222222222214,\n",
       "  0.35607222222222223]}"
      ]
     },
     "execution_count": 16,
     "metadata": {},
     "output_type": "execute_result"
    }
   ],
   "source": [
    "learner.epoch_metrics"
   ]
  },
  {
   "cell_type": "code",
   "execution_count": 17,
   "metadata": {},
   "outputs": [
    {
     "data": {
      "image/png": "[encoded data removed]",
      "text/plain": [
       "<Figure size 432x288 with 1 Axes>"
      ]
     },
     "execution_count": 17,
     "metadata": {},
     "output_type": "execute_result"
    }
   ],
   "source": [
    "learner.plot_metrics()"
   ]
  },
  {
   "cell_type": "code",
   "execution_count": 12,
   "metadata": {},
   "outputs": [],
   "source": [
    "def pretty_size(size):\n",
    "\t\"\"\"Pretty prints a torch.Size object\"\"\"\n",
    "\tassert(isinstance(size, torch.Size))\n",
    "\treturn \" × \".join(map(str, size))\n",
    "\n",
    "def dump_tensors(gpu_only=True):\n",
    "\t\"\"\"Prints a list of the Tensors being tracked by the garbage collector.\"\"\"\n",
    "\timport gc\n",
    "\ttotal_size = 0\n",
    "\tfor obj in gc.get_objects():\n",
    "\t\ttry:\n",
    "\t\t\tif torch.is_tensor(obj):\n",
    "\t\t\t\tif not gpu_only or obj.is_cuda:\n",
    "\t\t\t\t\tprint(\"%s:%s%s %s\" % (type(obj).__name__, \n",
    "\t\t\t\t\t\t\t\t\t\t  \" GPU\" if obj.is_cuda else \"\",\n",
    "\t\t\t\t\t\t\t\t\t\t  \" pinned\" if obj.is_pinned else \"\",\n",
    "\t\t\t\t\t\t\t\t\t\t  pretty_size(obj.size())))\n",
    "\t\t\t\t\ttotal_size += obj.numel()\n",
    "\t\t\telif hasattr(obj, \"data\") and torch.is_tensor(obj.data):\n",
    "\t\t\t\tif not gpu_only or obj.is_cuda:\n",
    "\t\t\t\t\tprint(\"%s → %s:%s%s%s%s %s\" % (type(obj).__name__, \n",
    "\t\t\t\t\t\t\t\t\t\t\t\t   type(obj.data).__name__, \n",
    "\t\t\t\t\t\t\t\t\t\t\t\t   \" GPU\" if obj.is_cuda else \"\",\n",
    "\t\t\t\t\t\t\t\t\t\t\t\t   \" pinned\" if obj.data.is_pinned else \"\",\n",
    "\t\t\t\t\t\t\t\t\t\t\t\t   \" grad\" if obj.requires_grad else \"\", \n",
    "\t\t\t\t\t\t\t\t\t\t\t\t   \" volatile\" if obj.volatile else \"\",\n",
    "\t\t\t\t\t\t\t\t\t\t\t\t   pretty_size(obj.data.size())))\n",
    "\t\t\t\t\ttotal_size += obj.data.numel()\n",
    "\t\texcept Exception as e:\n",
    "\t\t\tpass        \n",
    "\tprint(\"Total size:\", total_size)"
   ]
  },
  {
   "cell_type": "code",
   "execution_count": 27,
   "metadata": {},
   "outputs": [
    {
     "name": "stdout",
     "output_type": "stream",
     "text": [
      "Parameter: GPU pinned 2\n",
      "Parameter: GPU pinned 2 × 2 × 3 × 3\n",
      "Parameter: GPU pinned 2\n",
      "Parameter: GPU pinned 2 × 64 × 3 × 3\n",
      "Parameter: GPU pinned 64\n",
      "Parameter: GPU pinned 64 × 64 × 3 × 3\n",
      "Parameter: GPU pinned 64\n",
      "Parameter: GPU pinned 64 × 128 × 3 × 3\n",
      "Parameter: GPU pinned 64\n",
      "Parameter: GPU pinned 128 × 64 × 2 × 2\n",
      "Parameter: GPU pinned 128\n",
      "Parameter: GPU pinned 128 × 128 × 3 × 3\n",
      "Parameter: GPU pinned 128\n",
      "Parameter: GPU pinned 128 × 256 × 3 × 3\n",
      "Parameter: GPU pinned 128\n",
      "Parameter: GPU pinned 256 × 128 × 2 × 2\n",
      "Tensor: GPU pinned 64 × 1 × 3 × 3\n",
      "Tensor: GPU pinned 64\n",
      "Tensor: GPU pinned 64\n",
      "Tensor: GPU pinned 64\n",
      "Tensor: GPU pinned 64 × 64 × 3 × 3\n",
      "Tensor: GPU pinned 64\n",
      "Tensor: GPU pinned 64\n",
      "Tensor: GPU pinned 64\n",
      "Tensor: GPU pinned 64 × 64 × 3 × 3\n",
      "Tensor: GPU pinned 64\n",
      "Tensor: GPU pinned 64\n",
      "Tensor: GPU pinned 64\n",
      "Tensor: GPU pinned 64\n",
      "Tensor: GPU pinned 64\n",
      "Tensor: GPU pinned 64\n",
      "Tensor: GPU pinned 64 × 64 × 3 × 3\n",
      "Tensor: GPU pinned 64\n",
      "Tensor: GPU pinned 64\n",
      "Tensor: GPU pinned 64\n",
      "Tensor: GPU pinned 64 × 64 × 3 × 3\n",
      "Tensor: GPU pinned 64\n",
      "Tensor: GPU pinned 64\n",
      "Tensor: GPU pinned 64\n",
      "Tensor: GPU pinned 64 × 64 × 3 × 3\n",
      "Tensor: GPU pinned 64\n",
      "Tensor: GPU pinned 64\n",
      "Tensor: GPU pinned 64\n",
      "Tensor: GPU pinned 64 × 64 × 3 × 3\n",
      "Tensor: GPU pinned 64\n",
      "Tensor: GPU pinned 64\n",
      "Tensor: GPU pinned 64\n",
      "Tensor: GPU pinned 64 × 64 × 3 × 3\n",
      "Tensor: GPU pinned 64\n",
      "Tensor: GPU pinned 64\n",
      "Tensor: GPU pinned 64\n",
      "Tensor: GPU pinned 64 × 64 × 3 × 3\n",
      "Tensor: GPU pinned 64\n",
      "Tensor: GPU pinned 64\n",
      "Tensor: GPU pinned 64\n",
      "Tensor: GPU pinned 64 × 64 × 3 × 3\n",
      "Tensor: GPU pinned 64\n",
      "Tensor: GPU pinned 64\n",
      "Tensor: GPU pinned 64\n",
      "Tensor: GPU pinned 64 × 64 × 3 × 3\n",
      "Tensor: GPU pinned 64\n",
      "Tensor: GPU pinned 64\n",
      "Tensor: GPU pinned 64\n",
      "Tensor: GPU pinned 128 × 64 × 3 × 3\n",
      "Tensor: GPU pinned 128\n",
      "Tensor: GPU pinned 128\n",
      "Tensor: GPU pinned 128\n",
      "Tensor: GPU pinned 128 × 128 × 3 × 3\n",
      "Tensor: GPU pinned 128\n",
      "Tensor: GPU pinned 128\n",
      "Tensor: GPU pinned 128\n",
      "Tensor: GPU pinned 128 × 128 × 3 × 3\n",
      "Tensor: GPU pinned 128\n",
      "Tensor: GPU pinned 128\n",
      "Tensor: GPU pinned 128\n",
      "Tensor: GPU pinned 128 × 128 × 3 × 3\n",
      "Tensor: GPU pinned 128\n",
      "Tensor: GPU pinned 128\n",
      "Tensor: GPU pinned 128\n",
      "Tensor: GPU pinned 128 × 128 × 3 × 3\n",
      "Tensor: GPU pinned 128\n",
      "Tensor: GPU pinned 128\n",
      "Tensor: GPU pinned 128\n",
      "Tensor: GPU pinned 128 × 128 × 3 × 3\n",
      "Tensor: GPU pinned 128\n",
      "Tensor: GPU pinned 128\n",
      "Tensor: GPU pinned 128\n",
      "Tensor: GPU pinned 128 × 128 × 3 × 3\n",
      "Tensor: GPU pinned 128\n",
      "Tensor: GPU pinned 128\n",
      "Tensor: GPU pinned 128\n",
      "Tensor: GPU pinned 128 × 128 × 3 × 3\n",
      "Tensor: GPU pinned 128\n",
      "Tensor: GPU pinned 128\n",
      "Tensor: GPU pinned 128\n",
      "Tensor: GPU pinned 128 × 128 × 3 × 3\n",
      "Tensor: GPU pinned 128\n",
      "Tensor: GPU pinned 128\n",
      "Tensor: GPU pinned 128\n",
      "Tensor: GPU pinned 128 × 128 × 3 × 3\n",
      "Tensor: GPU pinned 128\n",
      "Tensor: GPU pinned 128\n",
      "Tensor: GPU pinned 128\n",
      "Tensor: GPU pinned 128 × 128 × 3 × 3\n",
      "Tensor: GPU pinned 128\n",
      "Tensor: GPU pinned 128\n",
      "Tensor: GPU pinned 128\n",
      "Tensor: GPU pinned 128 × 128 × 3 × 3\n",
      "Tensor: GPU pinned 128\n",
      "Tensor: GPU pinned 128\n",
      "Tensor: GPU pinned 128\n",
      "Tensor: GPU pinned 256 × 128 × 3 × 3\n",
      "Tensor: GPU pinned 256\n",
      "Tensor: GPU pinned 256\n",
      "Tensor: GPU pinned 256\n",
      "Tensor: GPU pinned 256 × 256 × 3 × 3\n",
      "Tensor: GPU pinned 256\n",
      "Tensor: GPU pinned 256\n",
      "Tensor: GPU pinned 256\n",
      "Tensor: GPU pinned 256 × 256 × 3 × 3\n",
      "Tensor: GPU pinned 256\n",
      "Tensor: GPU pinned 256\n",
      "Tensor: GPU pinned 256\n",
      "Tensor: GPU pinned 256 × 256 × 3 × 3\n",
      "Tensor: GPU pinned 256\n",
      "Tensor: GPU pinned 256\n",
      "Tensor: GPU pinned 256\n",
      "Tensor: GPU pinned 256 × 256 × 3 × 3\n",
      "Tensor: GPU pinned 256\n",
      "Tensor: GPU pinned 256\n",
      "Tensor: GPU pinned 256\n",
      "Tensor: GPU pinned 256 × 256 × 3 × 3\n",
      "Tensor: GPU pinned 256\n",
      "Tensor: GPU pinned 256\n",
      "Tensor: GPU pinned 256\n",
      "Tensor: GPU pinned 256 × 256 × 3 × 3\n",
      "Tensor: GPU pinned 256\n",
      "Tensor: GPU pinned 256\n",
      "Tensor: GPU pinned 256\n",
      "Tensor: GPU pinned 256 × 256 × 3 × 3\n",
      "Tensor: GPU pinned 256\n",
      "Tensor: GPU pinned 256\n",
      "Tensor: GPU pinned 256\n",
      "Tensor: GPU pinned 256 × 256 × 3 × 3\n",
      "Tensor: GPU pinned 256\n",
      "Tensor: GPU pinned 256\n",
      "Tensor: GPU pinned 256\n",
      "Tensor: GPU pinned 256 × 256 × 3 × 3\n",
      "Tensor: GPU pinned 256\n",
      "Tensor: GPU pinned 256\n",
      "Tensor: GPU pinned 256\n",
      "Tensor: GPU pinned 256 × 256 × 3 × 3\n",
      "Tensor: GPU pinned 256\n",
      "Tensor: GPU pinned 256\n",
      "Tensor: GPU pinned 256\n",
      "Tensor: GPU pinned 256 × 256 × 3 × 3\n",
      "Tensor: GPU pinned 256\n",
      "Tensor: GPU pinned 256\n",
      "Tensor: GPU pinned 256\n",
      "Tensor: GPU pinned 512 × 256 × 3 × 3\n",
      "Tensor: GPU pinned 512\n",
      "Tensor: GPU pinned 512\n",
      "Tensor: GPU pinned 512\n",
      "Tensor: GPU pinned 512 × 512 × 3 × 3\n",
      "Tensor: GPU pinned 512\n",
      "Tensor: GPU pinned 512\n",
      "Tensor: GPU pinned 512\n",
      "Tensor: GPU pinned 512 × 512 × 3 × 3\n",
      "Tensor: GPU pinned 512\n",
      "Tensor: GPU pinned 512\n",
      "Tensor: GPU pinned 512\n",
      "Tensor: GPU pinned 512 × 512 × 3 × 3\n",
      "Tensor: GPU pinned 512\n",
      "Tensor: GPU pinned 512\n",
      "Tensor: GPU pinned 512\n",
      "Tensor: GPU pinned 512 × 512 × 3 × 3\n",
      "Tensor: GPU pinned 512\n",
      "Tensor: GPU pinned 512\n",
      "Tensor: GPU pinned 512\n",
      "Tensor: GPU pinned 512 × 512 × 3 × 3\n",
      "Tensor: GPU pinned 512\n",
      "Tensor: GPU pinned 512\n",
      "Tensor: GPU pinned 512\n",
      "Tensor: GPU pinned 512 × 512 × 3 × 3\n",
      "Tensor: GPU pinned 512\n",
      "Tensor: GPU pinned 512\n",
      "Tensor: GPU pinned 512\n",
      "Tensor: GPU pinned 512 × 512 × 3 × 3\n",
      "Tensor: GPU pinned 512\n",
      "Tensor: GPU pinned 512\n",
      "Tensor: GPU pinned 512\n",
      "Tensor: GPU pinned 512 × 512 × 3 × 3\n",
      "Tensor: GPU pinned 512\n",
      "Tensor: GPU pinned 512\n",
      "Tensor: GPU pinned 512\n",
      "Tensor: GPU pinned 512 × 512 × 3 × 3\n",
      "Tensor: GPU pinned 512\n",
      "Tensor: GPU pinned 512\n",
      "Tensor: GPU pinned 512\n",
      "Tensor: GPU pinned 512 × 512 × 3 × 3\n",
      "Tensor: GPU pinned 512\n",
      "Tensor: GPU pinned 512\n",
      "Tensor: GPU pinned 512\n",
      "Tensor: GPU pinned 512 × 512 × 3 × 3\n",
      "Tensor: GPU pinned 512\n",
      "Tensor: GPU pinned 512\n",
      "Tensor: GPU pinned 512\n",
      "Tensor: GPU pinned 512 × 256 × 2 × 2\n",
      "Tensor: GPU pinned 256\n",
      "Tensor: GPU pinned 256 × 512 × 3 × 3\n",
      "Tensor: GPU pinned 256\n",
      "Tensor: GPU pinned 256 × 256 × 3 × 3\n",
      "Tensor: GPU pinned 256\n",
      "Tensor: GPU pinned 256 × 128 × 2 × 2\n",
      "Tensor: GPU pinned 128\n",
      "Tensor: GPU pinned 128 × 256 × 3 × 3\n",
      "Tensor: GPU pinned 128\n",
      "Tensor: GPU pinned 128 × 128 × 3 × 3\n",
      "Tensor: GPU pinned 128\n",
      "Tensor: GPU pinned 128 × 64 × 2 × 2\n",
      "Tensor: GPU pinned 64\n",
      "Tensor: GPU pinned 64 × 128 × 3 × 3\n",
      "Tensor: GPU pinned 64\n",
      "Tensor: GPU pinned 64 × 64 × 3 × 3\n",
      "Tensor: GPU pinned 64\n",
      "Tensor: GPU pinned 2 × 64 × 3 × 3\n",
      "Tensor: GPU pinned 2\n",
      "Tensor: GPU pinned 2 × 2 × 3 × 3\n",
      "Tensor: GPU pinned 2\n",
      "Parameter: GPU pinned 64 × 1 × 3 × 3\n",
      "Parameter: GPU pinned 64\n",
      "Parameter: GPU pinned 64\n",
      "Parameter: GPU pinned 64\n",
      "Parameter: GPU pinned 64 × 64 × 3 × 3\n",
      "Parameter: GPU pinned 64\n",
      "Parameter: GPU pinned 64\n",
      "Parameter: GPU pinned 64\n",
      "Parameter: GPU pinned 64 × 64 × 3 × 3\n",
      "Parameter: GPU pinned 64\n",
      "Parameter: GPU pinned 64\n",
      "Parameter: GPU pinned 64\n",
      "Parameter: GPU pinned 64 × 64 × 3 × 3\n",
      "Parameter: GPU pinned 64\n",
      "Parameter: GPU pinned 64\n",
      "Parameter: GPU pinned 64\n",
      "Parameter: GPU pinned 64 × 64 × 3 × 3\n",
      "Parameter: GPU pinned 64\n",
      "Parameter: GPU pinned 64\n",
      "Parameter: GPU pinned 64\n",
      "Parameter: GPU pinned 64 × 64 × 3 × 3\n",
      "Parameter: GPU pinned 64\n",
      "Parameter: GPU pinned 64\n",
      "Parameter: GPU pinned 64\n",
      "Parameter: GPU pinned 64 × 64 × 3 × 3\n",
      "Parameter: GPU pinned 64\n",
      "Parameter: GPU pinned 64\n",
      "Parameter: GPU pinned 64\n",
      "Parameter: GPU pinned 64 × 64 × 3 × 3\n",
      "Parameter: GPU pinned 64\n",
      "Parameter: GPU pinned 64\n",
      "Parameter: GPU pinned 64\n",
      "Parameter: GPU pinned 64 × 64 × 3 × 3\n",
      "Parameter: GPU pinned 64\n",
      "Parameter: GPU pinned 64\n",
      "Parameter: GPU pinned 64\n",
      "Parameter: GPU pinned 64 × 64 × 3 × 3\n",
      "Parameter: GPU pinned 64\n",
      "Parameter: GPU pinned 64\n",
      "Parameter: GPU pinned 64\n",
      "Parameter: GPU pinned 64 × 64 × 3 × 3\n",
      "Parameter: GPU pinned 64\n",
      "Parameter: GPU pinned 64\n",
      "Parameter: GPU pinned 64\n",
      "Parameter: GPU pinned 64 × 64 × 3 × 3\n",
      "Parameter: GPU pinned 64\n",
      "Parameter: GPU pinned 64\n",
      "Parameter: GPU pinned 64\n",
      "Parameter: GPU pinned 128 × 64 × 3 × 3\n",
      "Parameter: GPU pinned 128\n",
      "Parameter: GPU pinned 128\n",
      "Parameter: GPU pinned 128\n",
      "Parameter: GPU pinned 128 × 128 × 3 × 3\n",
      "Parameter: GPU pinned 128\n",
      "Parameter: GPU pinned 128\n",
      "Parameter: GPU pinned 128\n",
      "Parameter: GPU pinned 128 × 128 × 3 × 3\n",
      "Parameter: GPU pinned 128\n",
      "Parameter: GPU pinned 128\n",
      "Parameter: GPU pinned 128\n",
      "Parameter: GPU pinned 128 × 128 × 3 × 3\n",
      "Parameter: GPU pinned 128\n",
      "Parameter: GPU pinned 128\n",
      "Parameter: GPU pinned 128\n",
      "Parameter: GPU pinned 128 × 128 × 3 × 3\n",
      "Parameter: GPU pinned 128\n",
      "Parameter: GPU pinned 128\n",
      "Parameter: GPU pinned 128\n",
      "Parameter: GPU pinned 128 × 128 × 3 × 3\n",
      "Parameter: GPU pinned 128\n",
      "Parameter: GPU pinned 128\n",
      "Parameter: GPU pinned 128\n",
      "Parameter: GPU pinned 128 × 128 × 3 × 3\n",
      "Parameter: GPU pinned 128\n",
      "Parameter: GPU pinned 128\n",
      "Parameter: GPU pinned 128\n",
      "Parameter: GPU pinned 128 × 128 × 3 × 3\n",
      "Parameter: GPU pinned 128\n",
      "Parameter: GPU pinned 128\n",
      "Parameter: GPU pinned 128\n",
      "Parameter: GPU pinned 128 × 128 × 3 × 3\n",
      "Parameter: GPU pinned 128\n",
      "Parameter: GPU pinned 128\n",
      "Parameter: GPU pinned 128\n",
      "Parameter: GPU pinned 128 × 128 × 3 × 3\n",
      "Parameter: GPU pinned 128\n",
      "Parameter: GPU pinned 128\n",
      "Parameter: GPU pinned 128\n",
      "Parameter: GPU pinned 128 × 128 × 3 × 3\n",
      "Parameter: GPU pinned 128\n",
      "Parameter: GPU pinned 128\n",
      "Parameter: GPU pinned 128\n",
      "Parameter: GPU pinned 128 × 128 × 3 × 3\n",
      "Parameter: GPU pinned 128\n",
      "Parameter: GPU pinned 128\n",
      "Parameter: GPU pinned 128\n",
      "Parameter: GPU pinned 256 × 128 × 3 × 3\n",
      "Parameter: GPU pinned 256\n",
      "Parameter: GPU pinned 256\n",
      "Parameter: GPU pinned 256\n",
      "Parameter: GPU pinned 256 × 256 × 3 × 3\n",
      "Parameter: GPU pinned 256\n",
      "Parameter: GPU pinned 256\n",
      "Parameter: GPU pinned 256\n",
      "Parameter: GPU pinned 256 × 256 × 3 × 3\n",
      "Parameter: GPU pinned 256\n",
      "Parameter: GPU pinned 256\n",
      "Parameter: GPU pinned 256\n",
      "Parameter: GPU pinned 256 × 256 × 3 × 3\n",
      "Parameter: GPU pinned 256\n",
      "Parameter: GPU pinned 256\n",
      "Parameter: GPU pinned 256\n",
      "Parameter: GPU pinned 256 × 256 × 3 × 3\n",
      "Parameter: GPU pinned 256\n",
      "Parameter: GPU pinned 256\n",
      "Parameter: GPU pinned 256\n",
      "Parameter: GPU pinned 256 × 256 × 3 × 3\n",
      "Parameter: GPU pinned 256\n",
      "Parameter: GPU pinned 256\n",
      "Parameter: GPU pinned 256\n",
      "Parameter: GPU pinned 256 × 256 × 3 × 3\n",
      "Parameter: GPU pinned 256\n",
      "Parameter: GPU pinned 256\n",
      "Parameter: GPU pinned 256\n",
      "Parameter: GPU pinned 256 × 256 × 3 × 3\n",
      "Parameter: GPU pinned 256\n",
      "Parameter: GPU pinned 256\n",
      "Parameter: GPU pinned 256\n",
      "Parameter: GPU pinned 256 × 256 × 3 × 3\n",
      "Parameter: GPU pinned 256\n",
      "Parameter: GPU pinned 256\n",
      "Parameter: GPU pinned 256\n",
      "Parameter: GPU pinned 256 × 256 × 3 × 3\n",
      "Parameter: GPU pinned 256\n",
      "Parameter: GPU pinned 256\n",
      "Parameter: GPU pinned 256\n",
      "Parameter: GPU pinned 256 × 256 × 3 × 3\n",
      "Parameter: GPU pinned 256\n",
      "Parameter: GPU pinned 256\n",
      "Parameter: GPU pinned 256\n",
      "Parameter: GPU pinned 256 × 256 × 3 × 3\n",
      "Parameter: GPU pinned 256\n",
      "Parameter: GPU pinned 256\n",
      "Parameter: GPU pinned 256\n",
      "Parameter: GPU pinned 512 × 256 × 3 × 3\n",
      "Parameter: GPU pinned 512\n",
      "Parameter: GPU pinned 512\n",
      "Parameter: GPU pinned 512\n",
      "Parameter: GPU pinned 512 × 512 × 3 × 3\n",
      "Parameter: GPU pinned 512\n",
      "Parameter: GPU pinned 512\n",
      "Parameter: GPU pinned 512\n",
      "Parameter: GPU pinned 512 × 512 × 3 × 3\n",
      "Parameter: GPU pinned 512\n",
      "Parameter: GPU pinned 512\n",
      "Parameter: GPU pinned 512\n",
      "Parameter: GPU pinned 512 × 512 × 3 × 3\n",
      "Parameter: GPU pinned 512\n",
      "Parameter: GPU pinned 512\n",
      "Parameter: GPU pinned 512\n",
      "Parameter: GPU pinned 512 × 512 × 3 × 3\n",
      "Parameter: GPU pinned 512\n",
      "Parameter: GPU pinned 512\n",
      "Parameter: GPU pinned 512\n",
      "Parameter: GPU pinned 512 × 512 × 3 × 3\n",
      "Parameter: GPU pinned 512\n",
      "Parameter: GPU pinned 512\n",
      "Parameter: GPU pinned 512\n",
      "Parameter: GPU pinned 512 × 512 × 3 × 3\n",
      "Parameter: GPU pinned 512\n",
      "Parameter: GPU pinned 512\n",
      "Parameter: GPU pinned 512\n",
      "Parameter: GPU pinned 512 × 512 × 3 × 3\n",
      "Parameter: GPU pinned 512\n",
      "Parameter: GPU pinned 512\n",
      "Parameter: GPU pinned 512\n",
      "Parameter: GPU pinned 512 × 512 × 3 × 3\n",
      "Parameter: GPU pinned 512\n",
      "Parameter: GPU pinned 512\n",
      "Parameter: GPU pinned 512\n",
      "Parameter: GPU pinned 512 × 512 × 3 × 3\n",
      "Parameter: GPU pinned 512\n",
      "Parameter: GPU pinned 512\n",
      "Parameter: GPU pinned 512\n",
      "Parameter: GPU pinned 512 × 512 × 3 × 3\n",
      "Parameter: GPU pinned 512\n",
      "Parameter: GPU pinned 512\n",
      "Parameter: GPU pinned 512\n",
      "Parameter: GPU pinned 512 × 512 × 3 × 3\n",
      "Parameter: GPU pinned 512\n",
      "Parameter: GPU pinned 512\n",
      "Parameter: GPU pinned 512\n",
      "Parameter: GPU pinned 512 × 256 × 2 × 2\n",
      "Parameter: GPU pinned 256\n",
      "Parameter: GPU pinned 256 × 512 × 3 × 3\n",
      "Parameter: GPU pinned 256\n",
      "Parameter: GPU pinned 256 × 256 × 3 × 3\n",
      "Parameter: GPU pinned 256\n",
      "Tensor: GPU pinned 64 × 64 × 3 × 3\n",
      "Tensor: GPU pinned 64\n",
      "Tensor: GPU pinned 64\n",
      "Tensor: GPU pinned \n",
      "Tensor: GPU pinned 64\n",
      "Tensor: GPU pinned 64\n",
      "Tensor: GPU pinned \n",
      "Tensor: GPU pinned 64\n",
      "Tensor: GPU pinned 64\n",
      "Tensor: GPU pinned \n",
      "Tensor: GPU pinned 64\n",
      "Tensor: GPU pinned 64\n",
      "Tensor: GPU pinned \n",
      "Tensor: GPU pinned 64\n",
      "Tensor: GPU pinned 64\n",
      "Tensor: GPU pinned \n",
      "Tensor: GPU pinned 64\n",
      "Tensor: GPU pinned 64\n",
      "Tensor: GPU pinned \n",
      "Tensor: GPU pinned 64\n",
      "Tensor: GPU pinned 64\n",
      "Tensor: GPU pinned \n",
      "Tensor: GPU pinned 64\n",
      "Tensor: GPU pinned 64\n",
      "Tensor: GPU pinned \n",
      "Tensor: GPU pinned 64\n",
      "Tensor: GPU pinned 64\n",
      "Tensor: GPU pinned \n",
      "Tensor: GPU pinned 64\n",
      "Tensor: GPU pinned 64\n",
      "Tensor: GPU pinned \n",
      "Tensor: GPU pinned 64\n",
      "Tensor: GPU pinned 64\n",
      "Tensor: GPU pinned \n",
      "Tensor: GPU pinned 64\n",
      "Tensor: GPU pinned 64\n",
      "Tensor: GPU pinned \n",
      "Tensor: GPU pinned 128\n",
      "Tensor: GPU pinned 128\n",
      "Tensor: GPU pinned \n",
      "Tensor: GPU pinned 128\n",
      "Tensor: GPU pinned 128\n",
      "Tensor: GPU pinned \n",
      "Tensor: GPU pinned 128\n",
      "Tensor: GPU pinned 128\n",
      "Tensor: GPU pinned \n",
      "Tensor: GPU pinned 128\n",
      "Tensor: GPU pinned 128\n",
      "Tensor: GPU pinned \n",
      "Tensor: GPU pinned 128\n",
      "Tensor: GPU pinned 128\n",
      "Tensor: GPU pinned \n",
      "Tensor: GPU pinned 128\n",
      "Tensor: GPU pinned 128\n",
      "Tensor: GPU pinned \n",
      "Tensor: GPU pinned 128\n",
      "Tensor: GPU pinned 128\n",
      "Tensor: GPU pinned \n",
      "Tensor: GPU pinned 128\n",
      "Tensor: GPU pinned 128\n",
      "Tensor: GPU pinned \n",
      "Tensor: GPU pinned 128\n",
      "Tensor: GPU pinned 128\n",
      "Tensor: GPU pinned \n",
      "Tensor: GPU pinned 128\n",
      "Tensor: GPU pinned 128\n",
      "Tensor: GPU pinned \n",
      "Tensor: GPU pinned 128\n",
      "Tensor: GPU pinned 128\n",
      "Tensor: GPU pinned \n",
      "Tensor: GPU pinned 128\n",
      "Tensor: GPU pinned 128\n",
      "Tensor: GPU pinned \n",
      "Tensor: GPU pinned 256\n",
      "Tensor: GPU pinned 256\n",
      "Tensor: GPU pinned \n",
      "Tensor: GPU pinned 256\n",
      "Tensor: GPU pinned 256\n",
      "Tensor: GPU pinned \n",
      "Tensor: GPU pinned 256\n",
      "Tensor: GPU pinned 256\n",
      "Tensor: GPU pinned \n",
      "Tensor: GPU pinned 256\n",
      "Tensor: GPU pinned 256\n",
      "Tensor: GPU pinned \n",
      "Tensor: GPU pinned 256\n",
      "Tensor: GPU pinned 256\n",
      "Tensor: GPU pinned \n",
      "Tensor: GPU pinned 256\n",
      "Tensor: GPU pinned 256\n",
      "Tensor: GPU pinned \n",
      "Tensor: GPU pinned 256\n",
      "Tensor: GPU pinned 256\n",
      "Tensor: GPU pinned \n",
      "Tensor: GPU pinned 256\n",
      "Tensor: GPU pinned 256\n",
      "Tensor: GPU pinned \n",
      "Tensor: GPU pinned 256\n",
      "Tensor: GPU pinned 256\n",
      "Tensor: GPU pinned \n",
      "Tensor: GPU pinned 256\n",
      "Tensor: GPU pinned 256\n",
      "Tensor: GPU pinned \n",
      "Tensor: GPU pinned 256\n",
      "Tensor: GPU pinned 256\n",
      "Tensor: GPU pinned \n",
      "Tensor: GPU pinned 256\n",
      "Tensor: GPU pinned 256\n",
      "Tensor: GPU pinned \n",
      "Tensor: GPU pinned 512\n",
      "Tensor: GPU pinned 512\n",
      "Tensor: GPU pinned \n",
      "Tensor: GPU pinned 512\n",
      "Tensor: GPU pinned 512\n",
      "Tensor: GPU pinned \n",
      "Tensor: GPU pinned 512\n",
      "Tensor: GPU pinned 512\n",
      "Tensor: GPU pinned \n",
      "Tensor: GPU pinned 512\n",
      "Tensor: GPU pinned 512\n",
      "Tensor: GPU pinned \n",
      "Tensor: GPU pinned 512\n",
      "Tensor: GPU pinned 512\n",
      "Tensor: GPU pinned \n",
      "Tensor: GPU pinned 512\n",
      "Tensor: GPU pinned 512\n",
      "Tensor: GPU pinned \n",
      "Tensor: GPU pinned 512\n",
      "Tensor: GPU pinned 512\n",
      "Tensor: GPU pinned \n",
      "Tensor: GPU pinned 512\n",
      "Tensor: GPU pinned 512\n",
      "Tensor: GPU pinned \n",
      "Tensor: GPU pinned 512\n",
      "Tensor: GPU pinned 512\n",
      "Tensor: GPU pinned \n",
      "Tensor: GPU pinned 512\n",
      "Tensor: GPU pinned 512\n",
      "Tensor: GPU pinned \n",
      "Tensor: GPU pinned 512\n",
      "Tensor: GPU pinned 512\n",
      "Tensor: GPU pinned \n",
      "Tensor: GPU pinned 512\n",
      "Tensor: GPU pinned 512\n",
      "Tensor: GPU pinned \n",
      "Tensor: GPU pinned 1 × 2 × 300 × 300\n",
      "Total size: 78331808\n"
     ]
    }
   ],
   "source": [
    "dump_tensors()"
   ]
  },
  {
   "cell_type": "code",
   "execution_count": 51,
   "metadata": {},
   "outputs": [],
   "source": [
    "torch.cuda.empty_cache()"
   ]
  },
  {
   "cell_type": "code",
   "execution_count": 52,
   "metadata": {},
   "outputs": [],
   "source": [
    "del learner"
   ]
  },
  {
   "cell_type": "code",
   "execution_count": 53,
   "metadata": {},
   "outputs": [
    {
     "data": {
      "text/plain": [
       "OrderedDict([('time', 1607900491.8460016),\n",
       "             ('gpu_util', 0),\n",
       "             ('mem_used', 2266),\n",
       "             ('mem_used_per', 20.284665652134994)])"
      ]
     },
     "execution_count": 53,
     "metadata": {},
     "output_type": "execute_result"
    }
   ],
   "source": [
    "from v4.pytorch_unet.gpu_stats import get_gpu_stats\n",
    "get_gpu_stats(0)"
   ]
  },
  {
   "cell_type": "code",
   "execution_count": null,
   "metadata": {},
   "outputs": [],
   "source": []
  }
 ],
 "metadata": {
  "kernelspec": {
   "display_name": "Python 3",
   "language": "python",
   "name": "python3"
  },
  "language_info": {
   "codemirror_mode": {
    "name": "ipython",
    "version": 3
   },
   "file_extension": ".py",
   "mimetype": "text/x-python",
   "name": "python",
   "nbconvert_exporter": "python",
   "pygments_lexer": "ipython3",
   "version": "3.6.9"
  }
 },
 "nbformat": 4,
 "nbformat_minor": 4
}
