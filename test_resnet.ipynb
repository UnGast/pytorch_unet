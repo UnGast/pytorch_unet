{
 "cells": [
  {
   "cell_type": "code",
   "execution_count": 26,
   "metadata": {},
   "outputs": [
    {
     "name": "stdout",
     "output_type": "stream",
     "text": [
      "The autoreload extension is already loaded. To reload it, use:\n",
      "  %reload_ext autoreload\n"
     ]
    }
   ],
   "source": [
    "%load_ext autoreload\n",
    "%matplotlib inline"
   ]
  },
  {
   "cell_type": "code",
   "execution_count": 27,
   "metadata": {},
   "outputs": [],
   "source": [
    "import torch\n",
    "import torchvision.datasets\n",
    "import torch.optim as optim\n",
    "import torch.functional\n",
    "from pathlib import Path\n",
    "import matplotlib.pyplot as plt\n",
    "import sys"
   ]
  },
  {
   "cell_type": "code",
   "execution_count": 28,
   "metadata": {},
   "outputs": [],
   "source": [
    "sys.path.append(str(Path('../../').resolve()))"
   ]
  },
  {
   "cell_type": "code",
   "execution_count": 29,
   "metadata": {},
   "outputs": [
    {
     "name": "stderr",
     "output_type": "stream",
     "text": [
      "[autoreload of v4.pytorch_unet.learner failed: Traceback (most recent call last):\n",
      "  File \"/software/ml/JupyterHub/conda-env-20191018-0822/lib/python3.6/site-packages/IPython/extensions/autoreload.py\", line 245, in check\n",
      "    superreload(m, reload, self.old_objects)\n",
      "  File \"/software/ml/JupyterHub/conda-env-20191018-0822/lib/python3.6/site-packages/IPython/extensions/autoreload.py\", line 450, in superreload\n",
      "    update_generic(old_obj, new_obj)\n",
      "  File \"/software/ml/JupyterHub/conda-env-20191018-0822/lib/python3.6/site-packages/IPython/extensions/autoreload.py\", line 387, in update_generic\n",
      "    update(a, b)\n",
      "  File \"/software/ml/JupyterHub/conda-env-20191018-0822/lib/python3.6/site-packages/IPython/extensions/autoreload.py\", line 357, in update_class\n",
      "    update_instances(old, new)\n",
      "  File \"/software/ml/JupyterHub/conda-env-20191018-0822/lib/python3.6/site-packages/IPython/extensions/autoreload.py\", line 280, in update_instances\n",
      "    frame = next(frame_nfo.frame for frame_nfo in inspect.stack()\n",
      "StopIteration\n",
      "]\n",
      "[autoreload of v4.pytorch_unet.unet failed: Traceback (most recent call last):\n",
      "  File \"/software/ml/JupyterHub/conda-env-20191018-0822/lib/python3.6/site-packages/IPython/extensions/autoreload.py\", line 245, in check\n",
      "    superreload(m, reload, self.old_objects)\n",
      "  File \"/software/ml/JupyterHub/conda-env-20191018-0822/lib/python3.6/site-packages/IPython/extensions/autoreload.py\", line 450, in superreload\n",
      "    update_generic(old_obj, new_obj)\n",
      "  File \"/software/ml/JupyterHub/conda-env-20191018-0822/lib/python3.6/site-packages/IPython/extensions/autoreload.py\", line 387, in update_generic\n",
      "    update(a, b)\n",
      "  File \"/software/ml/JupyterHub/conda-env-20191018-0822/lib/python3.6/site-packages/IPython/extensions/autoreload.py\", line 357, in update_class\n",
      "    update_instances(old, new)\n",
      "  File \"/software/ml/JupyterHub/conda-env-20191018-0822/lib/python3.6/site-packages/IPython/extensions/autoreload.py\", line 280, in update_instances\n",
      "    frame = next(frame_nfo.frame for frame_nfo in inspect.stack()\n",
      "StopIteration\n",
      "]\n"
     ]
    }
   ],
   "source": [
    "%autoreload\n",
    "from v4.pytorch_unet.resnet import ResNet\n",
    "from v4.pytorch_unet.learner import Learner"
   ]
  },
  {
   "cell_type": "code",
   "execution_count": 30,
   "metadata": {},
   "outputs": [],
   "source": [
    "mnist = torchvision.datasets.MNIST(Path('mnist'), download=True, transform=torchvision.transforms.Compose([\n",
    "                               torchvision.transforms.ToTensor(),\n",
    "                               torchvision.transforms.Normalize(\n",
    "                                 (0.1307,), (0.3081,))\n",
    "                             ]))"
   ]
  },
  {
   "cell_type": "code",
   "execution_count": 31,
   "metadata": {},
   "outputs": [],
   "source": [
    "train_loader = torch.utils.data.DataLoader(mnist, batch_size=1000, shuffle=True, num_workers=4, pin_memory=True)"
   ]
  },
  {
   "cell_type": "code",
   "execution_count": 32,
   "metadata": {},
   "outputs": [
    {
     "data": {
      "text/plain": [
       "ResNet(\n",
       "  (first_layer): Conv2d(1, 64, kernel_size=(7, 7), stride=(1, 1), padding=(3, 3))\n",
       "  (layers): ModuleList(\n",
       "    (0): Conv2d(64, 64, kernel_size=(3, 3), stride=(1, 1), padding=(1, 1))\n",
       "    (1): Conv2d(64, 64, kernel_size=(3, 3), stride=(1, 1), padding=(1, 1))\n",
       "    (2): Conv2d(64, 64, kernel_size=(3, 3), stride=(1, 1), padding=(1, 1))\n",
       "    (3): Conv2d(64, 64, kernel_size=(3, 3), stride=(1, 1), padding=(1, 1))\n",
       "  )\n",
       "  (pool): MaxPool2d(kernel_size=2, stride=2, padding=0, dilation=1, ceil_mode=False)\n",
       "  (activate): ReLU()\n",
       "  (output_layer): Sequential(\n",
       "    (0): AvgPool2d(kernel_size=2, stride=2, padding=0)\n",
       "    (1): Flatten()\n",
       "    (2): Linear(in_features=12544, out_features=10, bias=True)\n",
       "  )\n",
       ")"
      ]
     },
     "execution_count": 32,
     "metadata": {},
     "output_type": "execute_result"
    }
   ],
   "source": [
    "model = ResNet(n_layers=4, n_classes=len(mnist.classes), n_input_channels=1, input_size=(mnist.train_data.shape[1], mnist.train_data.shape[2]))\n",
    "model.cuda()"
   ]
  },
  {
   "cell_type": "code",
   "execution_count": 33,
   "metadata": {},
   "outputs": [],
   "source": [
    "learner = Learner(model=model, train_loader=train_loader, valid_loader=None, cuda=True)"
   ]
  },
  {
   "cell_type": "code",
   "execution_count": 34,
   "metadata": {},
   "outputs": [
    {
     "name": "stdout",
     "output_type": "stream",
     "text": [
      "CALC LOSS torch.Size([1000, 10]) torch.Size([1000])\n",
      "CALC LOSS torch.Size([1000, 10]) torch.Size([1000])\n",
      "CALC LOSS torch.Size([1000, 10]) torch.Size([1000])\n",
      "CALC LOSS torch.Size([1000, 10]) torch.Size([1000])\n",
      "CALC LOSS torch.Size([1000, 10]) torch.Size([1000])\n",
      "CALC LOSS torch.Size([1000, 10]) torch.Size([1000])\n",
      "CALC LOSS torch.Size([1000, 10]) torch.Size([1000])\n",
      "CALC LOSS torch.Size([1000, 10]) torch.Size([1000])\n",
      "CALC LOSS torch.Size([1000, 10]) torch.Size([1000])\n",
      "CALC LOSS torch.Size([1000, 10]) torch.Size([1000])\n",
      "CALC LOSS torch.Size([1000, 10]) torch.Size([1000])\n",
      "CALC LOSS torch.Size([1000, 10]) torch.Size([1000])\n",
      "CALC LOSS torch.Size([1000, 10]) torch.Size([1000])\n",
      "CALC LOSS torch.Size([1000, 10]) torch.Size([1000])\n",
      "CALC LOSS torch.Size([1000, 10]) torch.Size([1000])\n",
      "CALC LOSS torch.Size([1000, 10]) torch.Size([1000])\n",
      "CALC LOSS torch.Size([1000, 10]) torch.Size([1000])\n",
      "CALC LOSS torch.Size([1000, 10]) torch.Size([1000])\n",
      "CALC LOSS torch.Size([1000, 10]) torch.Size([1000])\n",
      "CALC LOSS torch.Size([1000, 10]) torch.Size([1000])\n",
      "CALC LOSS torch.Size([1000, 10]) torch.Size([1000])\n",
      "CALC LOSS torch.Size([1000, 10]) torch.Size([1000])\n",
      "CALC LOSS torch.Size([1000, 10]) torch.Size([1000])\n",
      "CALC LOSS torch.Size([1000, 10]) torch.Size([1000])\n",
      "CALC LOSS torch.Size([1000, 10]) torch.Size([1000])\n",
      "CALC LOSS torch.Size([1000, 10]) torch.Size([1000])\n",
      "CALC LOSS torch.Size([1000, 10]) torch.Size([1000])\n",
      "CALC LOSS torch.Size([1000, 10]) torch.Size([1000])\n",
      "CALC LOSS torch.Size([1000, 10]) torch.Size([1000])\n",
      "CALC LOSS torch.Size([1000, 10]) torch.Size([1000])\n",
      "CALC LOSS torch.Size([1000, 10]) torch.Size([1000])\n",
      "CALC LOSS torch.Size([1000, 10]) torch.Size([1000])\n",
      "CALC LOSS torch.Size([1000, 10]) torch.Size([1000])\n",
      "CALC LOSS torch.Size([1000, 10]) torch.Size([1000])\n",
      "CALC LOSS torch.Size([1000, 10]) torch.Size([1000])\n",
      "CALC LOSS torch.Size([1000, 10]) torch.Size([1000])\n",
      "CALC LOSS torch.Size([1000, 10]) torch.Size([1000])\n",
      "CALC LOSS torch.Size([1000, 10]) torch.Size([1000])\n",
      "CALC LOSS torch.Size([1000, 10]) torch.Size([1000])\n",
      "CALC LOSS torch.Size([1000, 10]) torch.Size([1000])\n",
      "CALC LOSS torch.Size([1000, 10]) torch.Size([1000])\n",
      "CALC LOSS torch.Size([1000, 10]) torch.Size([1000])\n",
      "CALC LOSS torch.Size([1000, 10]) torch.Size([1000])\n",
      "CALC LOSS torch.Size([1000, 10]) torch.Size([1000])\n",
      "CALC LOSS torch.Size([1000, 10]) torch.Size([1000])\n",
      "CALC LOSS torch.Size([1000, 10]) torch.Size([1000])\n",
      "CALC LOSS torch.Size([1000, 10]) torch.Size([1000])\n",
      "CALC LOSS torch.Size([1000, 10]) torch.Size([1000])\n",
      "CALC LOSS torch.Size([1000, 10]) torch.Size([1000])\n",
      "CALC LOSS torch.Size([1000, 10]) torch.Size([1000])\n",
      "CALC LOSS torch.Size([1000, 10]) torch.Size([1000])\n",
      "CALC LOSS torch.Size([1000, 10]) torch.Size([1000])\n",
      "CALC LOSS torch.Size([1000, 10]) torch.Size([1000])\n",
      "CALC LOSS torch.Size([1000, 10]) torch.Size([1000])\n",
      "CALC LOSS torch.Size([1000, 10]) torch.Size([1000])\n",
      "CALC LOSS torch.Size([1000, 10]) torch.Size([1000])\n",
      "CALC LOSS torch.Size([1000, 10]) torch.Size([1000])\n",
      "CALC LOSS torch.Size([1000, 10]) torch.Size([1000])\n",
      "CALC LOSS torch.Size([1000, 10]) torch.Size([1000])\n",
      "CALC LOSS torch.Size([1000, 10]) torch.Size([1000])\n",
      "Epoch 0 train loss: 0.7468031942844391 valid loss: 0\n",
      "CALC LOSS torch.Size([1000, 10]) torch.Size([1000])\n",
      "CALC LOSS torch.Size([1000, 10]) torch.Size([1000])\n",
      "CALC LOSS torch.Size([1000, 10]) torch.Size([1000])\n",
      "CALC LOSS torch.Size([1000, 10]) torch.Size([1000])\n",
      "CALC LOSS torch.Size([1000, 10]) torch.Size([1000])\n",
      "CALC LOSS torch.Size([1000, 10]) torch.Size([1000])\n",
      "CALC LOSS torch.Size([1000, 10]) torch.Size([1000])\n",
      "CALC LOSS torch.Size([1000, 10]) torch.Size([1000])\n",
      "CALC LOSS torch.Size([1000, 10]) torch.Size([1000])\n",
      "CALC LOSS torch.Size([1000, 10]) torch.Size([1000])\n",
      "CALC LOSS torch.Size([1000, 10]) torch.Size([1000])\n",
      "CALC LOSS torch.Size([1000, 10]) torch.Size([1000])\n",
      "CALC LOSS torch.Size([1000, 10]) torch.Size([1000])\n",
      "CALC LOSS torch.Size([1000, 10]) torch.Size([1000])\n",
      "CALC LOSS torch.Size([1000, 10]) torch.Size([1000])\n",
      "CALC LOSS torch.Size([1000, 10]) torch.Size([1000])\n",
      "CALC LOSS torch.Size([1000, 10]) torch.Size([1000])\n",
      "CALC LOSS torch.Size([1000, 10]) torch.Size([1000])\n",
      "CALC LOSS torch.Size([1000, 10]) torch.Size([1000])\n",
      "CALC LOSS torch.Size([1000, 10]) torch.Size([1000])\n",
      "CALC LOSS torch.Size([1000, 10]) torch.Size([1000])\n",
      "CALC LOSS torch.Size([1000, 10]) torch.Size([1000])\n",
      "CALC LOSS torch.Size([1000, 10]) torch.Size([1000])\n",
      "CALC LOSS torch.Size([1000, 10]) torch.Size([1000])\n",
      "CALC LOSS torch.Size([1000, 10]) torch.Size([1000])\n",
      "CALC LOSS torch.Size([1000, 10]) torch.Size([1000])\n",
      "CALC LOSS torch.Size([1000, 10]) torch.Size([1000])\n",
      "CALC LOSS torch.Size([1000, 10]) torch.Size([1000])\n",
      "CALC LOSS torch.Size([1000, 10]) torch.Size([1000])\n",
      "CALC LOSS torch.Size([1000, 10]) torch.Size([1000])\n",
      "CALC LOSS torch.Size([1000, 10]) torch.Size([1000])\n",
      "CALC LOSS torch.Size([1000, 10]) torch.Size([1000])\n",
      "CALC LOSS torch.Size([1000, 10]) torch.Size([1000])\n",
      "CALC LOSS torch.Size([1000, 10]) torch.Size([1000])\n",
      "CALC LOSS torch.Size([1000, 10]) torch.Size([1000])\n",
      "CALC LOSS torch.Size([1000, 10]) torch.Size([1000])\n",
      "CALC LOSS torch.Size([1000, 10]) torch.Size([1000])\n",
      "CALC LOSS torch.Size([1000, 10]) torch.Size([1000])\n",
      "CALC LOSS torch.Size([1000, 10]) torch.Size([1000])\n",
      "CALC LOSS torch.Size([1000, 10]) torch.Size([1000])\n",
      "CALC LOSS torch.Size([1000, 10]) torch.Size([1000])\n",
      "CALC LOSS torch.Size([1000, 10]) torch.Size([1000])\n",
      "CALC LOSS torch.Size([1000, 10]) torch.Size([1000])\n",
      "CALC LOSS torch.Size([1000, 10]) torch.Size([1000])\n",
      "CALC LOSS torch.Size([1000, 10]) torch.Size([1000])\n",
      "CALC LOSS torch.Size([1000, 10]) torch.Size([1000])\n",
      "CALC LOSS torch.Size([1000, 10]) torch.Size([1000])\n",
      "CALC LOSS torch.Size([1000, 10]) torch.Size([1000])\n",
      "CALC LOSS torch.Size([1000, 10]) torch.Size([1000])\n",
      "CALC LOSS torch.Size([1000, 10]) torch.Size([1000])\n",
      "CALC LOSS torch.Size([1000, 10]) torch.Size([1000])\n",
      "CALC LOSS torch.Size([1000, 10]) torch.Size([1000])\n",
      "CALC LOSS torch.Size([1000, 10]) torch.Size([1000])\n",
      "CALC LOSS torch.Size([1000, 10]) torch.Size([1000])\n",
      "CALC LOSS torch.Size([1000, 10]) torch.Size([1000])\n",
      "CALC LOSS torch.Size([1000, 10]) torch.Size([1000])\n",
      "CALC LOSS torch.Size([1000, 10]) torch.Size([1000])\n",
      "CALC LOSS torch.Size([1000, 10]) torch.Size([1000])\n",
      "CALC LOSS torch.Size([1000, 10]) torch.Size([1000])\n",
      "CALC LOSS torch.Size([1000, 10]) torch.Size([1000])\n",
      "Epoch 1 train loss: 0.3312248999873797 valid loss: 0\n",
      "CALC LOSS torch.Size([1000, 10]) torch.Size([1000])\n",
      "CALC LOSS torch.Size([1000, 10]) torch.Size([1000])\n",
      "CALC LOSS torch.Size([1000, 10]) torch.Size([1000])\n",
      "CALC LOSS torch.Size([1000, 10]) torch.Size([1000])\n",
      "CALC LOSS torch.Size([1000, 10]) torch.Size([1000])\n",
      "CALC LOSS torch.Size([1000, 10]) torch.Size([1000])\n",
      "CALC LOSS torch.Size([1000, 10]) torch.Size([1000])\n",
      "CALC LOSS torch.Size([1000, 10]) torch.Size([1000])\n",
      "CALC LOSS torch.Size([1000, 10]) torch.Size([1000])\n",
      "CALC LOSS torch.Size([1000, 10]) torch.Size([1000])\n",
      "CALC LOSS torch.Size([1000, 10]) torch.Size([1000])\n",
      "CALC LOSS torch.Size([1000, 10]) torch.Size([1000])\n",
      "CALC LOSS torch.Size([1000, 10]) torch.Size([1000])\n",
      "CALC LOSS torch.Size([1000, 10]) torch.Size([1000])\n",
      "CALC LOSS torch.Size([1000, 10]) torch.Size([1000])\n",
      "CALC LOSS torch.Size([1000, 10]) torch.Size([1000])\n",
      "CALC LOSS torch.Size([1000, 10]) torch.Size([1000])\n",
      "CALC LOSS torch.Size([1000, 10]) torch.Size([1000])\n",
      "CALC LOSS torch.Size([1000, 10]) torch.Size([1000])\n",
      "CALC LOSS torch.Size([1000, 10]) torch.Size([1000])\n",
      "CALC LOSS torch.Size([1000, 10]) torch.Size([1000])\n",
      "CALC LOSS torch.Size([1000, 10]) torch.Size([1000])\n",
      "CALC LOSS torch.Size([1000, 10]) torch.Size([1000])\n",
      "CALC LOSS torch.Size([1000, 10]) torch.Size([1000])\n",
      "CALC LOSS torch.Size([1000, 10]) torch.Size([1000])\n",
      "CALC LOSS torch.Size([1000, 10]) torch.Size([1000])\n",
      "CALC LOSS torch.Size([1000, 10]) torch.Size([1000])\n",
      "CALC LOSS torch.Size([1000, 10]) torch.Size([1000])\n",
      "CALC LOSS torch.Size([1000, 10]) torch.Size([1000])\n",
      "CALC LOSS torch.Size([1000, 10]) torch.Size([1000])\n",
      "CALC LOSS torch.Size([1000, 10]) torch.Size([1000])\n",
      "CALC LOSS torch.Size([1000, 10]) torch.Size([1000])\n",
      "CALC LOSS torch.Size([1000, 10]) torch.Size([1000])\n",
      "CALC LOSS torch.Size([1000, 10]) torch.Size([1000])\n",
      "CALC LOSS torch.Size([1000, 10]) torch.Size([1000])\n",
      "CALC LOSS torch.Size([1000, 10]) torch.Size([1000])\n",
      "CALC LOSS torch.Size([1000, 10]) torch.Size([1000])\n",
      "CALC LOSS torch.Size([1000, 10]) torch.Size([1000])\n",
      "CALC LOSS torch.Size([1000, 10]) torch.Size([1000])\n",
      "CALC LOSS torch.Size([1000, 10]) torch.Size([1000])\n",
      "CALC LOSS torch.Size([1000, 10]) torch.Size([1000])\n",
      "CALC LOSS torch.Size([1000, 10]) torch.Size([1000])\n",
      "CALC LOSS torch.Size([1000, 10]) torch.Size([1000])\n",
      "CALC LOSS torch.Size([1000, 10]) torch.Size([1000])\n",
      "CALC LOSS torch.Size([1000, 10]) torch.Size([1000])\n",
      "CALC LOSS torch.Size([1000, 10]) torch.Size([1000])\n",
      "CALC LOSS torch.Size([1000, 10]) torch.Size([1000])\n",
      "CALC LOSS torch.Size([1000, 10]) torch.Size([1000])\n",
      "CALC LOSS torch.Size([1000, 10]) torch.Size([1000])\n",
      "CALC LOSS torch.Size([1000, 10]) torch.Size([1000])\n",
      "CALC LOSS torch.Size([1000, 10]) torch.Size([1000])\n",
      "CALC LOSS torch.Size([1000, 10]) torch.Size([1000])\n",
      "CALC LOSS torch.Size([1000, 10]) torch.Size([1000])\n",
      "CALC LOSS torch.Size([1000, 10]) torch.Size([1000])\n",
      "CALC LOSS torch.Size([1000, 10]) torch.Size([1000])\n",
      "CALC LOSS torch.Size([1000, 10]) torch.Size([1000])\n",
      "CALC LOSS torch.Size([1000, 10]) torch.Size([1000])\n",
      "CALC LOSS torch.Size([1000, 10]) torch.Size([1000])\n",
      "CALC LOSS torch.Size([1000, 10]) torch.Size([1000])\n",
      "CALC LOSS torch.Size([1000, 10]) torch.Size([1000])\n",
      "Epoch 2 train loss: 0.23882541706164678 valid loss: 0\n"
     ]
    }
   ],
   "source": [
    "learner.train(n_epochs=3)"
   ]
  },
  {
   "cell_type": "code",
   "execution_count": 16,
   "metadata": {},
   "outputs": [
    {
     "data": {
      "image/png": "[encoded data removed]",
      "text/plain": [
       "<Figure size 432x288 with 1 Axes>"
      ]
     },
     "metadata": {
      "needs_background": "light"
     },
     "output_type": "display_data"
    }
   ],
   "source": [
    "learner.plot_metrics()\n",
    "        "
   ]
  },
  {
   "cell_type": "code",
   "execution_count": 17,
   "metadata": {},
   "outputs": [
    {
     "name": "stdout",
     "output_type": "stream",
     "text": [
      "prediction tensor(9, device='cuda:0')\n"
     ]
    },
    {
     "data": {
      "image/png": "[encoded data removed]",
      "text/plain": [
       "<Figure size 432x288 with 1 Axes>"
      ]
     },
     "metadata": {
      "needs_background": "light"
     },
     "output_type": "display_data"
    }
   ],
   "source": [
    "example = mnist[4][0]\n",
    "prediction = torch.argmax(model(example.unsqueeze(dim=0).cuda()))\n",
    "plt.imshow(example.squeeze())\n",
    "print('prediction', prediction)"
   ]
  },
  {
   "cell_type": "code",
   "execution_count": 18,
   "metadata": {},
   "outputs": [],
   "source": [
    "import torchvision.models as models"
   ]
  },
  {
   "cell_type": "code",
   "execution_count": 21,
   "metadata": {},
   "outputs": [
    {
     "name": "stderr",
     "output_type": "stream",
     "text": [
      "Downloading: \"https://download.pytorch.org/models/resnet34-333f7ec4.pth\" to /home/adzi885b/.cache/torch/checkpoints/resnet34-333f7ec4.pth\n",
      "100.0%\n"
     ]
    }
   ],
   "source": [
    "resnetmodel = models.resnet34(pretrained=True)"
   ]
  },
  {
   "cell_type": "code",
   "execution_count": 20,
   "metadata": {},
   "outputs": [
    {
     "data": {
      "text/plain": [
       "ResNet(\n",
       "  (conv1): Conv2d(3, 64, kernel_size=(7, 7), stride=(2, 2), padding=(3, 3), bias=False)\n",
       "  (bn1): BatchNorm2d(64, eps=1e-05, momentum=0.1, affine=True, track_running_stats=True)\n",
       "  (relu): ReLU(inplace)\n",
       "  (maxpool): MaxPool2d(kernel_size=3, stride=2, padding=1, dilation=1, ceil_mode=False)\n",
       "  (layer1): Sequential(\n",
       "    (0): BasicBlock(\n",
       "      (conv1): Conv2d(64, 64, kernel_size=(3, 3), stride=(1, 1), padding=(1, 1), bias=False)\n",
       "      (bn1): BatchNorm2d(64, eps=1e-05, momentum=0.1, affine=True, track_running_stats=True)\n",
       "      (relu): ReLU(inplace)\n",
       "      (conv2): Conv2d(64, 64, kernel_size=(3, 3), stride=(1, 1), padding=(1, 1), bias=False)\n",
       "      (bn2): BatchNorm2d(64, eps=1e-05, momentum=0.1, affine=True, track_running_stats=True)\n",
       "    )\n",
       "    (1): BasicBlock(\n",
       "      (conv1): Conv2d(64, 64, kernel_size=(3, 3), stride=(1, 1), padding=(1, 1), bias=False)\n",
       "      (bn1): BatchNorm2d(64, eps=1e-05, momentum=0.1, affine=True, track_running_stats=True)\n",
       "      (relu): ReLU(inplace)\n",
       "      (conv2): Conv2d(64, 64, kernel_size=(3, 3), stride=(1, 1), padding=(1, 1), bias=False)\n",
       "      (bn2): BatchNorm2d(64, eps=1e-05, momentum=0.1, affine=True, track_running_stats=True)\n",
       "    )\n",
       "    (2): BasicBlock(\n",
       "      (conv1): Conv2d(64, 64, kernel_size=(3, 3), stride=(1, 1), padding=(1, 1), bias=False)\n",
       "      (bn1): BatchNorm2d(64, eps=1e-05, momentum=0.1, affine=True, track_running_stats=True)\n",
       "      (relu): ReLU(inplace)\n",
       "      (conv2): Conv2d(64, 64, kernel_size=(3, 3), stride=(1, 1), padding=(1, 1), bias=False)\n",
       "      (bn2): BatchNorm2d(64, eps=1e-05, momentum=0.1, affine=True, track_running_stats=True)\n",
       "    )\n",
       "  )\n",
       "  (layer2): Sequential(\n",
       "    (0): BasicBlock(\n",
       "      (conv1): Conv2d(64, 128, kernel_size=(3, 3), stride=(2, 2), padding=(1, 1), bias=False)\n",
       "      (bn1): BatchNorm2d(128, eps=1e-05, momentum=0.1, affine=True, track_running_stats=True)\n",
       "      (relu): ReLU(inplace)\n",
       "      (conv2): Conv2d(128, 128, kernel_size=(3, 3), stride=(1, 1), padding=(1, 1), bias=False)\n",
       "      (bn2): BatchNorm2d(128, eps=1e-05, momentum=0.1, affine=True, track_running_stats=True)\n",
       "      (downsample): Sequential(\n",
       "        (0): Conv2d(64, 128, kernel_size=(1, 1), stride=(2, 2), bias=False)\n",
       "        (1): BatchNorm2d(128, eps=1e-05, momentum=0.1, affine=True, track_running_stats=True)\n",
       "      )\n",
       "    )\n",
       "    (1): BasicBlock(\n",
       "      (conv1): Conv2d(128, 128, kernel_size=(3, 3), stride=(1, 1), padding=(1, 1), bias=False)\n",
       "      (bn1): BatchNorm2d(128, eps=1e-05, momentum=0.1, affine=True, track_running_stats=True)\n",
       "      (relu): ReLU(inplace)\n",
       "      (conv2): Conv2d(128, 128, kernel_size=(3, 3), stride=(1, 1), padding=(1, 1), bias=False)\n",
       "      (bn2): BatchNorm2d(128, eps=1e-05, momentum=0.1, affine=True, track_running_stats=True)\n",
       "    )\n",
       "    (2): BasicBlock(\n",
       "      (conv1): Conv2d(128, 128, kernel_size=(3, 3), stride=(1, 1), padding=(1, 1), bias=False)\n",
       "      (bn1): BatchNorm2d(128, eps=1e-05, momentum=0.1, affine=True, track_running_stats=True)\n",
       "      (relu): ReLU(inplace)\n",
       "      (conv2): Conv2d(128, 128, kernel_size=(3, 3), stride=(1, 1), padding=(1, 1), bias=False)\n",
       "      (bn2): BatchNorm2d(128, eps=1e-05, momentum=0.1, affine=True, track_running_stats=True)\n",
       "    )\n",
       "    (3): BasicBlock(\n",
       "      (conv1): Conv2d(128, 128, kernel_size=(3, 3), stride=(1, 1), padding=(1, 1), bias=False)\n",
       "      (bn1): BatchNorm2d(128, eps=1e-05, momentum=0.1, affine=True, track_running_stats=True)\n",
       "      (relu): ReLU(inplace)\n",
       "      (conv2): Conv2d(128, 128, kernel_size=(3, 3), stride=(1, 1), padding=(1, 1), bias=False)\n",
       "      (bn2): BatchNorm2d(128, eps=1e-05, momentum=0.1, affine=True, track_running_stats=True)\n",
       "    )\n",
       "  )\n",
       "  (layer3): Sequential(\n",
       "    (0): BasicBlock(\n",
       "      (conv1): Conv2d(128, 256, kernel_size=(3, 3), stride=(2, 2), padding=(1, 1), bias=False)\n",
       "      (bn1): BatchNorm2d(256, eps=1e-05, momentum=0.1, affine=True, track_running_stats=True)\n",
       "      (relu): ReLU(inplace)\n",
       "      (conv2): Conv2d(256, 256, kernel_size=(3, 3), stride=(1, 1), padding=(1, 1), bias=False)\n",
       "      (bn2): BatchNorm2d(256, eps=1e-05, momentum=0.1, affine=True, track_running_stats=True)\n",
       "      (downsample): Sequential(\n",
       "        (0): Conv2d(128, 256, kernel_size=(1, 1), stride=(2, 2), bias=False)\n",
       "        (1): BatchNorm2d(256, eps=1e-05, momentum=0.1, affine=True, track_running_stats=True)\n",
       "      )\n",
       "    )\n",
       "    (1): BasicBlock(\n",
       "      (conv1): Conv2d(256, 256, kernel_size=(3, 3), stride=(1, 1), padding=(1, 1), bias=False)\n",
       "      (bn1): BatchNorm2d(256, eps=1e-05, momentum=0.1, affine=True, track_running_stats=True)\n",
       "      (relu): ReLU(inplace)\n",
       "      (conv2): Conv2d(256, 256, kernel_size=(3, 3), stride=(1, 1), padding=(1, 1), bias=False)\n",
       "      (bn2): BatchNorm2d(256, eps=1e-05, momentum=0.1, affine=True, track_running_stats=True)\n",
       "    )\n",
       "    (2): BasicBlock(\n",
       "      (conv1): Conv2d(256, 256, kernel_size=(3, 3), stride=(1, 1), padding=(1, 1), bias=False)\n",
       "      (bn1): BatchNorm2d(256, eps=1e-05, momentum=0.1, affine=True, track_running_stats=True)\n",
       "      (relu): ReLU(inplace)\n",
       "      (conv2): Conv2d(256, 256, kernel_size=(3, 3), stride=(1, 1), padding=(1, 1), bias=False)\n",
       "      (bn2): BatchNorm2d(256, eps=1e-05, momentum=0.1, affine=True, track_running_stats=True)\n",
       "    )\n",
       "    (3): BasicBlock(\n",
       "      (conv1): Conv2d(256, 256, kernel_size=(3, 3), stride=(1, 1), padding=(1, 1), bias=False)\n",
       "      (bn1): BatchNorm2d(256, eps=1e-05, momentum=0.1, affine=True, track_running_stats=True)\n",
       "      (relu): ReLU(inplace)\n",
       "      (conv2): Conv2d(256, 256, kernel_size=(3, 3), stride=(1, 1), padding=(1, 1), bias=False)\n",
       "      (bn2): BatchNorm2d(256, eps=1e-05, momentum=0.1, affine=True, track_running_stats=True)\n",
       "    )\n",
       "    (4): BasicBlock(\n",
       "      (conv1): Conv2d(256, 256, kernel_size=(3, 3), stride=(1, 1), padding=(1, 1), bias=False)\n",
       "      (bn1): BatchNorm2d(256, eps=1e-05, momentum=0.1, affine=True, track_running_stats=True)\n",
       "      (relu): ReLU(inplace)\n",
       "      (conv2): Conv2d(256, 256, kernel_size=(3, 3), stride=(1, 1), padding=(1, 1), bias=False)\n",
       "      (bn2): BatchNorm2d(256, eps=1e-05, momentum=0.1, affine=True, track_running_stats=True)\n",
       "    )\n",
       "    (5): BasicBlock(\n",
       "      (conv1): Conv2d(256, 256, kernel_size=(3, 3), stride=(1, 1), padding=(1, 1), bias=False)\n",
       "      (bn1): BatchNorm2d(256, eps=1e-05, momentum=0.1, affine=True, track_running_stats=True)\n",
       "      (relu): ReLU(inplace)\n",
       "      (conv2): Conv2d(256, 256, kernel_size=(3, 3), stride=(1, 1), padding=(1, 1), bias=False)\n",
       "      (bn2): BatchNorm2d(256, eps=1e-05, momentum=0.1, affine=True, track_running_stats=True)\n",
       "    )\n",
       "  )\n",
       "  (layer4): Sequential(\n",
       "    (0): BasicBlock(\n",
       "      (conv1): Conv2d(256, 512, kernel_size=(3, 3), stride=(2, 2), padding=(1, 1), bias=False)\n",
       "      (bn1): BatchNorm2d(512, eps=1e-05, momentum=0.1, affine=True, track_running_stats=True)\n",
       "      (relu): ReLU(inplace)\n",
       "      (conv2): Conv2d(512, 512, kernel_size=(3, 3), stride=(1, 1), padding=(1, 1), bias=False)\n",
       "      (bn2): BatchNorm2d(512, eps=1e-05, momentum=0.1, affine=True, track_running_stats=True)\n",
       "      (downsample): Sequential(\n",
       "        (0): Conv2d(256, 512, kernel_size=(1, 1), stride=(2, 2), bias=False)\n",
       "        (1): BatchNorm2d(512, eps=1e-05, momentum=0.1, affine=True, track_running_stats=True)\n",
       "      )\n",
       "    )\n",
       "    (1): BasicBlock(\n",
       "      (conv1): Conv2d(512, 512, kernel_size=(3, 3), stride=(1, 1), padding=(1, 1), bias=False)\n",
       "      (bn1): BatchNorm2d(512, eps=1e-05, momentum=0.1, affine=True, track_running_stats=True)\n",
       "      (relu): ReLU(inplace)\n",
       "      (conv2): Conv2d(512, 512, kernel_size=(3, 3), stride=(1, 1), padding=(1, 1), bias=False)\n",
       "      (bn2): BatchNorm2d(512, eps=1e-05, momentum=0.1, affine=True, track_running_stats=True)\n",
       "    )\n",
       "    (2): BasicBlock(\n",
       "      (conv1): Conv2d(512, 512, kernel_size=(3, 3), stride=(1, 1), padding=(1, 1), bias=False)\n",
       "      (bn1): BatchNorm2d(512, eps=1e-05, momentum=0.1, affine=True, track_running_stats=True)\n",
       "      (relu): ReLU(inplace)\n",
       "      (conv2): Conv2d(512, 512, kernel_size=(3, 3), stride=(1, 1), padding=(1, 1), bias=False)\n",
       "      (bn2): BatchNorm2d(512, eps=1e-05, momentum=0.1, affine=True, track_running_stats=True)\n",
       "    )\n",
       "  )\n",
       "  (avgpool): AdaptiveAvgPool2d(output_size=(1, 1))\n",
       "  (fc): Linear(in_features=512, out_features=1000, bias=True)\n",
       ")"
      ]
     },
     "execution_count": 20,
     "metadata": {},
     "output_type": "execute_result"
    }
   ],
   "source": [
    "resnetmodel"
   ]
  },
  {
   "cell_type": "code",
   "execution_count": null,
   "metadata": {},
   "outputs": [],
   "source": []
  }
 ],
 "metadata": {
  "kernelspec": {
   "display_name": "Python 3",
   "language": "python",
   "name": "python3"
  },
  "language_info": {
   "codemirror_mode": {
    "name": "ipython",
    "version": 3
   },
   "file_extension": ".py",
   "mimetype": "text/x-python",
   "name": "python",
   "nbconvert_exporter": "python",
   "pygments_lexer": "ipython3",
   "version": "3.6.9"
  }
 },
 "nbformat": 4,
 "nbformat_minor": 4
}
