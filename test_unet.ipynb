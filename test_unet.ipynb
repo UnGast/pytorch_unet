{
 "cells": [
  {
   "cell_type": "code",
   "execution_count": 1,
   "metadata": {},
   "outputs": [],
   "source": [
    "%load_ext autoreload"
   ]
  },
  {
   "cell_type": "code",
   "execution_count": 2,
   "metadata": {},
   "outputs": [],
   "source": [
    "%matplotlib inline\n",
    "import matplotlib.pyplot as plt\n",
    "import torch\n",
    "import torchvision.datasets as datasets\n",
    "import torchvision\n",
    "from torch.utils.data import DataLoader\n",
    "from pathlib import Path\n",
    "import sys\n",
    "sys.path.append(str(Path('../../').resolve()))"
   ]
  },
  {
   "cell_type": "code",
   "execution_count": 3,
   "metadata": {},
   "outputs": [
    {
     "data": {
      "text/plain": [
       "torch.optim.lr_scheduler._LRScheduler"
      ]
     },
     "execution_count": 3,
     "metadata": {},
     "output_type": "execute_result"
    }
   ],
   "source": [
    "import torch.optim as optim\n",
    "optim.lr_scheduler._LRScheduler"
   ]
  },
  {
   "cell_type": "code",
   "execution_count": 4,
   "metadata": {},
   "outputs": [],
   "source": [
    "%autoreload\n",
    "import v4.pytorch_unet.unet as unet\n",
    "from v4.pytorch_unet.learner import LearnerCallback, UNetLearner\n",
    "from v4.pytorch_unet.unet_dataset import UNetDataset"
   ]
  },
  {
   "cell_type": "code",
   "execution_count": 5,
   "metadata": {},
   "outputs": [],
   "source": [
    "train_dataset = UNetDataset(root_dir=Path('simple_dataset'), part='train')\n",
    "valid_dataset = UNetDataset(root_dir=Path('simple_dataset'), part='valid')\n",
    "train_loader = DataLoader(train_dataset)\n",
    "valid_loader = DataLoader(valid_dataset)"
   ]
  },
  {
   "cell_type": "code",
   "execution_count": 6,
   "metadata": {},
   "outputs": [],
   "source": [
    "model = unet.ResNetUNet(in_channels=train_dataset.image_channels, in_size=train_dataset.item_size, n_classes=len(train_dataset.classes), depth=4)"
   ]
  },
  {
   "cell_type": "code",
   "execution_count": 7,
   "metadata": {},
   "outputs": [],
   "source": [
    "def handle_epoch_end(metrics, epoch):\n",
    "    learner.save_checkpoint(Path('test_checkpoint'), 'some_model')\n",
    "    \n",
    "callback = LearnerCallback(epoch_end=handle_epoch_end)\n",
    "\n",
    "learner = UNetLearner(model, train_loader, valid_loader, cuda=True, callback=callback)"
   ]
  },
  {
   "cell_type": "code",
   "execution_count": 8,
   "metadata": {},
   "outputs": [],
   "source": [
    "learner.load_checkpoint(Path('test_checkpoint'))"
   ]
  },
  {
   "cell_type": "code",
   "execution_count": 8,
   "metadata": {},
   "outputs": [
    {
     "data": {
      "text/plain": [
       "-1"
      ]
     },
     "execution_count": 8,
     "metadata": {},
     "output_type": "execute_result"
    }
   ],
   "source": [
    "learner.current_epoch"
   ]
  },
  {
   "cell_type": "code",
   "execution_count": 10,
   "metadata": {},
   "outputs": [
    {
     "data": {
      "text/plain": [
       "torch.Size([300, 300])"
      ]
     },
     "execution_count": 10,
     "metadata": {},
     "output_type": "execute_result"
    }
   ],
   "source": [
    "train_dataset[0][1].shape"
   ]
  },
  {
   "cell_type": "code",
   "execution_count": 9,
   "metadata": {},
   "outputs": [
    {
     "name": "stdout",
     "output_type": "stream",
     "text": [
      "Epoch 9\n",
      "train_loss 0.34302446444829304\n",
      "valid_loss 0.3427424877882004\n",
      "train_accuracy 0.37223148148148155\n",
      "valid_accuracy 0.35607222222222223\n",
      "------------------\n",
      "learning rate: [1.4855810395957869e-05]\n"
     ]
    }
   ],
   "source": [
    "learner.train(n_epochs=10, lr=3e-4, momentum=0.9)"
   ]
  },
  {
   "cell_type": "code",
   "execution_count": null,
   "metadata": {},
   "outputs": [],
   "source": [
    "{key: 1 for (key, value) in learner.epoch_metrics.items()}"
   ]
  },
  {
   "cell_type": "code",
   "execution_count": 11,
   "metadata": {},
   "outputs": [
    {
     "data": {
      "text/plain": [
       "{0: 'train_loss', 1: 'valid_loss', 2: 'accuracy'}"
      ]
     },
     "execution_count": 11,
     "metadata": {},
     "output_type": "execute_result"
    }
   ],
   "source": [
    "test = {'train_loss': 0, 'valid_loss': 0, 'accuracy': 0}\n",
    "{key: value for key, value in enumerate(test)}"
   ]
  },
  {
   "cell_type": "code",
   "execution_count": 14,
   "metadata": {},
   "outputs": [],
   "source": [
    "plt.ioff()\n",
    "figure = learner.show_train_results(2)\n",
    "figure.savefig(\"test.png\")\n",
    "plt.ion()"
   ]
  },
  {
   "cell_type": "code",
   "execution_count": 10,
   "metadata": {},
   "outputs": [
    {
     "data": {
      "text/plain": [
       "datetime.datetime(2020, 12, 7, 21, 32, 47, 654054)"
      ]
     },
     "execution_count": 10,
     "metadata": {},
     "output_type": "execute_result"
    }
   ],
   "source": [
    "torch.load(Path('test_checkpoint/train_history.save'))[0].timestamp"
   ]
  },
  {
   "cell_type": "code",
   "execution_count": 10,
   "metadata": {},
   "outputs": [
    {
     "data": {
      "text/plain": [
       "{'train_loss': [0.37691390613714854,\n",
       "  0.3734049181143443,\n",
       "  0.3668163905541102,\n",
       "  0.3606810828049978,\n",
       "  0.35533954401810963,\n",
       "  0.35076627333958943,\n",
       "  0.34711896379788715,\n",
       "  0.34460744162400564,\n",
       "  0.3433426340421041,\n",
       "  0.34302446444829304],\n",
       " 'valid_loss': [0.3760935217142105,\n",
       "  0.3699115216732025,\n",
       "  0.36301159858703613,\n",
       "  0.35734444856643677,\n",
       "  0.3523831218481064,\n",
       "  0.34825339913368225,\n",
       "  0.34516333043575287,\n",
       "  0.3433322161436081,\n",
       "  0.34274253249168396,\n",
       "  0.3427424877882004],\n",
       " 'train_accuracy': [0.12602962962962963,\n",
       "  0.12602962962962963,\n",
       "  0.1260177777777778,\n",
       "  0.12599314814814816,\n",
       "  0.12595518518518517,\n",
       "  0.1264259259259259,\n",
       "  0.16471870370370376,\n",
       "  0.4095599999999999,\n",
       "  0.3708540740740741,\n",
       "  0.37223148148148155],\n",
       " 'valid_accuracy': [0.12929444444444446,\n",
       "  0.12929444444444446,\n",
       "  0.12937222222222222,\n",
       "  0.12975,\n",
       "  0.1315888888888889,\n",
       "  0.13833333333333334,\n",
       "  0.21421666666666672,\n",
       "  0.35040555555555564,\n",
       "  0.35592222222222214,\n",
       "  0.35607222222222223]}"
      ]
     },
     "execution_count": 10,
     "metadata": {},
     "output_type": "execute_result"
    }
   ],
   "source": [
    "learner.epoch_metrics"
   ]
  },
  {
   "cell_type": "code",
   "execution_count": 11,
   "metadata": {},
   "outputs": [
    {
     "data": {
      "image/png": "[encoded data removed]",
      "text/plain": [
       "<Figure size 432x288 with 1 Axes>"
      ]
     },
     "execution_count": 11,
     "metadata": {},
     "output_type": "execute_result"
    }
   ],
   "source": [
    "learner.plot_metrics()"
   ]
  },
  {
   "cell_type": "code",
   "execution_count": null,
   "metadata": {},
   "outputs": [],
   "source": []
  }
 ],
 "metadata": {
  "kernelspec": {
   "display_name": "Python 3",
   "language": "python",
   "name": "python3"
  },
  "language_info": {
   "codemirror_mode": {
    "name": "ipython",
    "version": 3
   },
   "file_extension": ".py",
   "mimetype": "text/x-python",
   "name": "python",
   "nbconvert_exporter": "python",
   "pygments_lexer": "ipython3",
   "version": "3.6.9"
  }
 },
 "nbformat": 4,
 "nbformat_minor": 4
}
