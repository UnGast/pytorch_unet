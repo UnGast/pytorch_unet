{
 "cells": [
  {
   "cell_type": "code",
   "execution_count": 1,
   "metadata": {},
   "outputs": [],
   "source": [
    "%load_ext autoreload"
   ]
  },
  {
   "cell_type": "code",
   "execution_count": 2,
   "metadata": {},
   "outputs": [],
   "source": [
    "%matplotlib inline\n",
    "import matplotlib.pyplot as plt\n",
    "import torch\n",
    "import torchvision.datasets as datasets\n",
    "import torchvision\n",
    "from torch.utils.data import DataLoader\n",
    "from pathlib import Path\n",
    "import sys\n",
    "sys.path.append(str(Path('../../').resolve()))"
   ]
  },
  {
   "cell_type": "code",
   "execution_count": 72,
   "metadata": {},
   "outputs": [
    {
     "name": "stderr",
     "output_type": "stream",
     "text": [
      "[autoreload of v4.pytorch_unet.learner failed: Traceback (most recent call last):\n",
      "  File \"/software/ml/JupyterHub/conda-env-20191018-0822/lib/python3.6/site-packages/IPython/extensions/autoreload.py\", line 245, in check\n",
      "    superreload(m, reload, self.old_objects)\n",
      "  File \"/software/ml/JupyterHub/conda-env-20191018-0822/lib/python3.6/site-packages/IPython/extensions/autoreload.py\", line 450, in superreload\n",
      "    update_generic(old_obj, new_obj)\n",
      "  File \"/software/ml/JupyterHub/conda-env-20191018-0822/lib/python3.6/site-packages/IPython/extensions/autoreload.py\", line 387, in update_generic\n",
      "    update(a, b)\n",
      "  File \"/software/ml/JupyterHub/conda-env-20191018-0822/lib/python3.6/site-packages/IPython/extensions/autoreload.py\", line 357, in update_class\n",
      "    update_instances(old, new)\n",
      "  File \"/software/ml/JupyterHub/conda-env-20191018-0822/lib/python3.6/site-packages/IPython/extensions/autoreload.py\", line 280, in update_instances\n",
      "    frame = next(frame_nfo.frame for frame_nfo in inspect.stack()\n",
      "StopIteration\n",
      "]\n"
     ]
    }
   ],
   "source": [
    "%autoreload\n",
    "import v4.pytorch_unet.unet as unet\n",
    "from v4.pytorch_unet.learner import UNetLearner\n",
    "from v4.pytorch_unet.unet_dataset import UNetDataset"
   ]
  },
  {
   "cell_type": "code",
   "execution_count": 73,
   "metadata": {},
   "outputs": [],
   "source": [
    "#mnist = datasets.MNIST(Path('./mnist'), download=True, transform=torchvision.transforms.Compose([\n",
    "#                               torchvision.transforms.ToTensor(),\n",
    "#                               torchvision.transforms.Normalize(\n",
    "#                                 (0.1307,), (0.3081,))\n",
    "#                             ]))\n",
    "#train_loader = torch.utils.data.DataLoader(mnist, batch_size=4000, shuffle=True, num_workers=4, pin_memory=True)"
   ]
  },
  {
   "cell_type": "code",
   "execution_count": 74,
   "metadata": {},
   "outputs": [],
   "source": [
    "train_dataset = UNetDataset(root_dir=Path('simple_dataset'), part='train')\n",
    "valid_dataset = UNetDataset(root_dir=Path('simple_dataset'), part='valid')\n",
    "train_loader = DataLoader(train_dataset)"
   ]
  },
  {
   "cell_type": "code",
   "execution_count": 75,
   "metadata": {},
   "outputs": [],
   "source": [
    "model = unet.ResNetUnet(in_channels=train_dataset.image_channels, in_size=train_dataset.item_size, n_classes=len(train_dataset.classes), depth=4)\n",
    "#model.cuda();"
   ]
  },
  {
   "cell_type": "code",
   "execution_count": 76,
   "metadata": {},
   "outputs": [],
   "source": [
    "%autoreload\n",
    "from v4.pytorch_unet.learner import UNetLearner"
   ]
  },
  {
   "cell_type": "code",
   "execution_count": 77,
   "metadata": {},
   "outputs": [],
   "source": [
    "learner = UNetLearner(model, train_loader, valid_loader=None, cuda=True)"
   ]
  },
  {
   "cell_type": "code",
   "execution_count": 78,
   "metadata": {},
   "outputs": [
    {
     "data": {
      "text/plain": [
       "torch.Size([300, 300])"
      ]
     },
     "execution_count": 78,
     "metadata": {},
     "output_type": "execute_result"
    }
   ],
   "source": [
    "train_dataset[0][1].shape"
   ]
  },
  {
   "cell_type": "code",
   "execution_count": 85,
   "metadata": {},
   "outputs": [
    {
     "name": "stdout",
     "output_type": "stream",
     "text": [
      "Epoch 41 train loss: 0.04242490865290165 valid loss: 0\n",
      "Epoch 42 train loss: 0.042169467980662984 valid loss: 0\n",
      "Epoch 43 train loss: 0.041986419322590035 valid loss: 0\n",
      "Epoch 44 train loss: 0.042116077492634456 valid loss: 0\n",
      "Epoch 45 train loss: 0.041788321609298386 valid loss: 0\n",
      "Epoch 46 train loss: 0.04187472735842069 valid loss: 0\n",
      "Epoch 47 train loss: 0.04175767314930757 valid loss: 0\n",
      "Epoch 48 train loss: 0.04152465915928284 valid loss: 0\n",
      "Epoch 49 train loss: 0.04141663480550051 valid loss: 0\n",
      "Epoch 50 train loss: 0.041453417080144085 valid loss: 0\n",
      "Epoch 51 train loss: 0.04139962966243426 valid loss: 0\n",
      "Epoch 52 train loss: 0.04146893403182427 valid loss: 0\n",
      "Epoch 53 train loss: 0.041382722370326516 valid loss: 0\n",
      "Epoch 54 train loss: 0.041002875690658885 valid loss: 0\n",
      "Epoch 55 train loss: 0.04086430631577968 valid loss: 0\n",
      "Epoch 56 train loss: 0.0409476725384593 valid loss: 0\n",
      "Epoch 57 train loss: 0.04089390952140093 valid loss: 0\n",
      "Epoch 58 train loss: 0.040739001519978044 valid loss: 0\n",
      "Epoch 59 train loss: 0.04055879128475984 valid loss: 0\n",
      "Epoch 60 train loss: 0.040737866113583245 valid loss: 0\n",
      "Epoch 61 train loss: 0.04067136036852995 valid loss: 0\n",
      "Epoch 62 train loss: 0.04075540248304606 valid loss: 0\n",
      "Epoch 63 train loss: 0.04057924716422955 valid loss: 0\n",
      "Epoch 64 train loss: 0.040272225998342036 valid loss: 0\n",
      "Epoch 65 train loss: 0.03997077532112599 valid loss: 0\n",
      "Epoch 66 train loss: 0.03990031648427248 valid loss: 0\n",
      "Epoch 67 train loss: 0.03981919636329015 valid loss: 0\n",
      "Epoch 68 train loss: 0.039667499934633574 valid loss: 0\n",
      "Epoch 69 train loss: 0.039457611305018264 valid loss: 0\n",
      "Epoch 70 train loss: 0.03927628720800082 valid loss: 0\n",
      "Epoch 71 train loss: 0.03931213070948918 valid loss: 0\n",
      "Epoch 72 train loss: 0.03917635542651018 valid loss: 0\n",
      "Epoch 73 train loss: 0.03911997141937415 valid loss: 0\n",
      "Epoch 74 train loss: 0.03923953988899787 valid loss: 0\n",
      "Epoch 75 train loss: 0.039165152919789156 valid loss: 0\n",
      "Epoch 76 train loss: 0.038967992675801116 valid loss: 0\n",
      "Epoch 77 train loss: 0.038736804264287154 valid loss: 0\n",
      "Epoch 78 train loss: 0.038729781719545525 valid loss: 0\n",
      "Epoch 79 train loss: 0.03852832013120254 valid loss: 0\n",
      "Epoch 80 train loss: 0.038320266331235565 valid loss: 0\n",
      "Epoch 81 train loss: 0.038226743787527086 valid loss: 0\n",
      "Epoch 82 train loss: 0.03782123314837615 valid loss: 0\n",
      "Epoch 83 train loss: 0.03754866731663545 valid loss: 0\n",
      "Epoch 84 train loss: 0.03752146239082019 valid loss: 0\n",
      "Epoch 85 train loss: 0.03743088866273562 valid loss: 0\n",
      "Epoch 86 train loss: 0.0374458368246754 valid loss: 0\n",
      "Epoch 87 train loss: 0.03736636241277059 valid loss: 0\n",
      "Epoch 88 train loss: 0.037178946348528065 valid loss: 0\n",
      "Epoch 89 train loss: 0.03701588530093432 valid loss: 0\n",
      "Epoch 90 train loss: 0.03688961969067653 valid loss: 0\n",
      "Epoch 91 train loss: 0.036649095825850964 valid loss: 0\n",
      "Epoch 92 train loss: 0.03667625673115253 valid loss: 0\n",
      "Epoch 93 train loss: 0.036730947966376944 valid loss: 0\n",
      "Epoch 94 train loss: 0.03668305762112141 valid loss: 0\n",
      "Epoch 95 train loss: 0.03663381207734347 valid loss: 0\n",
      "Epoch 96 train loss: 0.036570540194710094 valid loss: 0\n",
      "Epoch 97 train loss: 0.03644791344801585 valid loss: 0\n",
      "Epoch 98 train loss: 0.0362071388711532 valid loss: 0\n",
      "Epoch 99 train loss: 0.036279806805153685 valid loss: 0\n",
      "Epoch 100 train loss: 0.03625087849795818 valid loss: 0\n",
      "Epoch 101 train loss: 0.03604960118730863 valid loss: 0\n",
      "Epoch 102 train loss: 0.03590954318642616 valid loss: 0\n",
      "Epoch 103 train loss: 0.03588590975850821 valid loss: 0\n",
      "Epoch 104 train loss: 0.035843321681022645 valid loss: 0\n",
      "Epoch 105 train loss: 0.03552522889027993 valid loss: 0\n",
      "Epoch 106 train loss: 0.035436417907476425 valid loss: 0\n",
      "Epoch 107 train loss: 0.03562587574124336 valid loss: 0\n",
      "Epoch 108 train loss: 0.03539964774002632 valid loss: 0\n",
      "Epoch 109 train loss: 0.03551518718401591 valid loss: 0\n",
      "Epoch 110 train loss: 0.03537794128060341 valid loss: 0\n",
      "Epoch 111 train loss: 0.035343561321496964 valid loss: 0\n",
      "Epoch 112 train loss: 0.03508085248370965 valid loss: 0\n",
      "Epoch 113 train loss: 0.03499469049274921 valid loss: 0\n",
      "Epoch 114 train loss: 0.035096022052069506 valid loss: 0\n",
      "Epoch 115 train loss: 0.03482549116015434 valid loss: 0\n",
      "Epoch 116 train loss: 0.03488784208893776 valid loss: 0\n",
      "Epoch 117 train loss: 0.034833208099007605 valid loss: 0\n",
      "Epoch 118 train loss: 0.03485110936065515 valid loss: 0\n",
      "Epoch 119 train loss: 0.03491721308479707 valid loss: 0\n",
      "Epoch 120 train loss: 0.03483068353186051 valid loss: 0\n",
      "Epoch 121 train loss: 0.03465093572934468 valid loss: 0\n",
      "Epoch 122 train loss: 0.03459894768893719 valid loss: 0\n",
      "Epoch 123 train loss: 0.03429872331519922 valid loss: 0\n",
      "Epoch 124 train loss: 0.03467240935812394 valid loss: 0\n",
      "Epoch 125 train loss: 0.034663440907994905 valid loss: 0\n",
      "Epoch 126 train loss: 0.034691247157752514 valid loss: 0\n",
      "Epoch 127 train loss: 0.034749898004035155 valid loss: 0\n",
      "Epoch 128 train loss: 0.03475764524191618 valid loss: 0\n",
      "Epoch 129 train loss: 0.034787387152512866 valid loss: 0\n",
      "Epoch 130 train loss: 0.034609679318964484 valid loss: 0\n",
      "Epoch 131 train loss: 0.03425232212369641 valid loss: 0\n",
      "Epoch 132 train loss: 0.034112017260243495 valid loss: 0\n",
      "Epoch 133 train loss: 0.03390440965692202 valid loss: 0\n",
      "Epoch 134 train loss: 0.03371017817407847 valid loss: 0\n",
      "Epoch 135 train loss: 0.033716106228530406 valid loss: 0\n",
      "Epoch 136 train loss: 0.03397627044469118 valid loss: 0\n",
      "Epoch 137 train loss: 0.03387507069855929 valid loss: 0\n",
      "Epoch 138 train loss: 0.03379305998484294 valid loss: 0\n",
      "Epoch 139 train loss: 0.03389812900374333 valid loss: 0\n",
      "Epoch 140 train loss: 0.03356235530227423 valid loss: 0\n"
     ]
    }
   ],
   "source": [
    "learner.train(n_epochs=100, lr=3e-4, momentum=0.9)"
   ]
  },
  {
   "cell_type": "code",
   "execution_count": null,
   "metadata": {},
   "outputs": [],
   "source": []
  },
  {
   "cell_type": "code",
   "execution_count": 84,
   "metadata": {},
   "outputs": [
    {
     "name": "stdout",
     "output_type": "stream",
     "text": [
      "ITEM torch.Size([1, 1, 300, 300])\n",
      "ITEM torch.Size([1, 1, 300, 300])\n"
     ]
    },
    {
     "data": {
      "image/png": "[encoded data removed]",
      "text/plain": [
       "<Figure size 432x288 with 6 Axes>"
      ]
     },
     "metadata": {
      "needs_background": "light"
     },
     "output_type": "display_data"
    }
   ],
   "source": [
    "learner.show_train_results(2)"
   ]
  },
  {
   "cell_type": "code",
   "execution_count": null,
   "metadata": {},
   "outputs": [],
   "source": []
  }
 ],
 "metadata": {
  "kernelspec": {
   "display_name": "Python 3",
   "language": "python",
   "name": "python3"
  },
  "language_info": {
   "codemirror_mode": {
    "name": "ipython",
    "version": 3
   },
   "file_extension": ".py",
   "mimetype": "text/x-python",
   "name": "python",
   "nbconvert_exporter": "python",
   "pygments_lexer": "ipython3",
   "version": "3.6.9"
  }
 },
 "nbformat": 4,
 "nbformat_minor": 4
}
